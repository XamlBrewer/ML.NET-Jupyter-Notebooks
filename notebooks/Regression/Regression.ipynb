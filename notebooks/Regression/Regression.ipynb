{
 "cells": [
  {
   "cell_type": "markdown",
   "metadata": {},
   "source": [
    "## ML.NET Regression\n",
    "Creates a regression model to predict the quality of wine using 11 physicochemical features"
   ]
  },
  {
   "cell_type": "markdown",
   "metadata": {},
   "source": [
    "### NuGet package installation"
   ]
  },
  {
   "cell_type": "code",
   "execution_count": 1,
   "metadata": {},
   "outputs": [
    {
     "data": {
      "text/html": [
       "Installing package Microsoft.ML, version 1.4.0..............done!"
      ]
     },
     "metadata": {},
     "output_type": "display_data"
    },
    {
     "data": {
      "text/html": [
       "Successfully added reference to package Microsoft.ML, version 1.4.0"
      ]
     },
     "metadata": {},
     "output_type": "display_data"
    },
    {
     "data": {
      "text/html": [
       "Installing package XPlot.Plotly, version 3.0.1......done!"
      ]
     },
     "metadata": {},
     "output_type": "display_data"
    },
    {
     "data": {
      "text/html": [
       "Successfully added reference to package XPlot.Plotly, version 3.0.1"
      ]
     },
     "metadata": {},
     "output_type": "display_data"
    }
   ],
   "source": [
    "#r \"nuget:Microsoft.ML, 1.4.0\"\n",
    "#r \"nuget:XPlot.Plotly, 3.0.1\""
   ]
  },
  {
   "cell_type": "markdown",
   "metadata": {},
   "source": [
    "### Namespaces"
   ]
  },
  {
   "cell_type": "code",
   "execution_count": 2,
   "metadata": {},
   "outputs": [],
   "source": [
    "using Microsoft.ML;\n",
    "using Microsoft.ML.Data;\n",
    "using Microsoft.ML.Trainers;\n",
    "using Microsoft.ML.Transforms;\n",
    "using XPlot.Plotly;"
   ]
  },
  {
   "cell_type": "markdown",
   "metadata": {},
   "source": [
    "### Input Class Definition"
   ]
  },
  {
   "cell_type": "code",
   "execution_count": 3,
   "metadata": {},
   "outputs": [],
   "source": [
    "public class RegressionData\n",
    "{\n",
    "    [LoadColumn(0)]\n",
    "    public float FixedAcidity;\n",
    "\n",
    "    [LoadColumn(1)]\n",
    "    public float VolatileAcidity;\n",
    "\n",
    "    [LoadColumn(2)]\n",
    "    public float CitricAcid;\n",
    "\n",
    "    [LoadColumn(3)]\n",
    "    public float ResidualSugar;\n",
    "\n",
    "    [LoadColumn(4)]\n",
    "    public float Chlorides;\n",
    "\n",
    "    [LoadColumn(5)]\n",
    "    public float FreeSulfurDioxide;\n",
    "\n",
    "    [LoadColumn(6)]\n",
    "    public float TotalSulfurDioxide;\n",
    "\n",
    "    [LoadColumn(7)]\n",
    "    public float Density;\n",
    "\n",
    "    [LoadColumn(8)]\n",
    "    public float Ph;\n",
    "\n",
    "    [LoadColumn(9)]\n",
    "    public float Sulphates;\n",
    "\n",
    "    [LoadColumn(10)]\n",
    "    public float Alcohol;\n",
    "\n",
    "    [LoadColumn(11)]\n",
    "    public float Label;\n",
    "}\n"
   ]
  },
  {
   "cell_type": "markdown",
   "metadata": {},
   "source": [
    "### Output Class Definition"
   ]
  },
  {
   "cell_type": "code",
   "execution_count": 4,
   "metadata": {},
   "outputs": [],
   "source": [
    "public class RegressionPrediction\n",
    "{\n",
    "    [ColumnName(\"Label\")]\n",
    "    public float Label;\n",
    "\n",
    "    [ColumnName(\"Score\")]\n",
    "    public float PredictedLabel;\n",
    "}"
   ]
  },
  {
   "cell_type": "markdown",
   "metadata": {},
   "source": [
    "### Helpers "
   ]
  },
  {
   "cell_type": "code",
   "execution_count": 5,
   "metadata": {},
   "outputs": [],
   "source": [
    "string[] featureNames = \n",
    "    { \n",
    "          \"FixedAcidity\",\n",
    "          \"VolatileAcidity\",\n",
    "          \"CitricAcid\",\n",
    "          \"ResidualSugar\",\n",
    "          \"Chlorides\",\n",
    "          \"FreeSulfurDioxide\",\n",
    "          \"TotalSulfurDioxide\",\n",
    "          \"Density\",\n",
    "          \"Ph\",\n",
    "          \"Sulphates\",\n",
    "          \"Alcohol\"\n",
    "    };\n",
    "    \n",
    "string[] metricNames = \n",
    "    { \n",
    "        \"Mean Absolute Error\", \n",
    "        \"Mean Squared Error\", \n",
    "        \"Root Mean Squared Error\", \n",
    "        \"Loss Function\", \n",
    "        \"R Squared\"\n",
    "    };"
   ]
  },
  {
   "cell_type": "markdown",
   "metadata": {},
   "source": [
    "### Read the Raw Data"
   ]
  },
  {
   "cell_type": "code",
   "execution_count": 6,
   "metadata": {},
   "outputs": [],
   "source": [
    "var mlContext = new MLContext(seed: null);\n",
    "\n",
    "var trainingData = mlContext.Data.LoadFromTextFile<RegressionData>(\n",
    "    \"./WineQuality_White_Train.csv\", \n",
    "    separatorChar: ';',\n",
    "    hasHeader: true);"
   ]
  },
  {
   "cell_type": "markdown",
   "metadata": {},
   "source": [
    "### Prepare the Data"
   ]
  },
  {
   "cell_type": "code",
   "execution_count": 7,
   "metadata": {},
   "outputs": [],
   "source": [
    "var pipeline =\n",
    "    mlContext.Transforms.ReplaceMissingValues(\n",
    "        outputColumnName: \"PreparedFixedAcidity\",\n",
    "        inputColumnName: \"FixedAcidity\",\n",
    "        replacementMode: MissingValueReplacingEstimator.ReplacementMode.Mean)\n",
    "    .Append(mlContext.Transforms.DropColumns(\"FixedAcidity\"))\n",
    "    .Append(mlContext.Transforms.Concatenate(\"Features\",\n",
    "        new[]\n",
    "        {\n",
    "          \"PreparedFixedAcidity\",\n",
    "          \"VolatileAcidity\",\n",
    "          \"CitricAcid\",\n",
    "          \"ResidualSugar\",\n",
    "          \"Chlorides\",\n",
    "          \"FreeSulfurDioxide\",\n",
    "          \"TotalSulfurDioxide\",\n",
    "          \"Density\",\n",
    "          \"Ph\",\n",
    "          \"Sulphates\",\n",
    "          \"Alcohol\"\n",
    "        }))\n",
    "    .Append(mlContext.Transforms.NormalizeMeanVariance(\"Features\"))\n",
    "    .Append(mlContext.Regression.Trainers.Sdca());"
   ]
  },
  {
   "cell_type": "markdown",
   "metadata": {},
   "source": [
    "### Train the Model"
   ]
  },
  {
   "cell_type": "code",
   "execution_count": 8,
   "metadata": {},
   "outputs": [],
   "source": [
    "var model = pipeline.Fit(trainingData);"
   ]
  },
  {
   "cell_type": "markdown",
   "metadata": {},
   "source": [
    "### Evaluate the Model"
   ]
  },
  {
   "cell_type": "code",
   "execution_count": 9,
   "metadata": {},
   "outputs": [
    {
     "data": {
      "text/html": [
       "<table><thead><tr><th>MeanAbsoluteError</th><th>MeanSquaredError</th><th>RootMeanSquaredError</th><th>LossFunction</th><th>RSquared</th></tr></thead><tbody><tr><td>0.5416236609129366</td><td>0.5025304962757207</td><td>0.7088938540259188</td><td>0.502530496086152</td><td>0.16448854936302226</td></tr></tbody></table>"
      ]
     },
     "metadata": {},
     "output_type": "display_data"
    }
   ],
   "source": [
    "// Load the raw test data.\n",
    "var testData = mlContext.Data.LoadFromTextFile<RegressionData>(\n",
    "    \"./WineQuality_White_Test.csv\", \n",
    "    separatorChar: ';',\n",
    "    hasHeader: true);\n",
    "\n",
    "// Score the test data and calculate the metrics.\n",
    "var scoredData = model.Transform(testData);\n",
    "var qualityMetrics =  mlContext.Regression.Evaluate(scoredData);\n",
    "display(qualityMetrics);"
   ]
  },
  {
   "cell_type": "markdown",
   "metadata": {},
   "source": [
    "### Visualize the Quality Metrics"
   ]
  },
  {
   "cell_type": "code",
   "execution_count": 10,
   "metadata": {},
   "outputs": [
    {
     "data": {
      "text/html": [
       "<div id=\"60604ad5-5978-4e4d-af8d-31dbdf49ea18\" style=\"width: 900px; height: 500px;\"></div><script type=\"text/javascript\">\r\n",
       "\r\n",
       "var renderPlotly = function() {\r\n",
       "    var xplotRequire = requirejs.config({context:'xplot-2.0.0',paths:{plotly:'https://cdn.plot.ly/plotly-1.49.2.min'}});\r\n",
       "    xplotRequire(['plotly'], function(Plotly) {\r\n",
       "\n",
       "            var data = [{\"type\":\"bar\",\"x\":[0.5416236609129366,0.5025304962757207,0.7088938540259188,0.502530496086152,0.16448854936302226],\"y\":[\"Mean Absolute Error\",\"Mean Squared Error\",\"Root Mean Squared Error\",\"Loss Function\",\"R Squared\"],\"orientation\":\"h\",\"marker\":{\"color\":\"darkred\"}}];\n",
       "            var layout = {\"title\":\"Quality Metrics\"};\n",
       "            Plotly.newPlot('60604ad5-5978-4e4d-af8d-31dbdf49ea18', data, layout);\n",
       "        });\r\n",
       "};\r\n",
       "if ((typeof(requirejs) !==  typeof(Function)) || (typeof(requirejs.config) !== typeof(Function))) { \r\n",
       "    var script = document.createElement(\"script\"); \r\n",
       "    script.setAttribute(\"src\", \"https://cdnjs.cloudflare.com/ajax/libs/require.js/2.3.6/require.min.js\"); \r\n",
       "    script.onload = function(){\r\n",
       "        renderPlotly();\r\n",
       "    };\r\n",
       "    document.getElementsByTagName(\"head\")[0].appendChild(script); \r\n",
       "}\r\n",
       "else {\r\n",
       "    renderPlotly();\r\n",
       "}\r\n",
       "</script>"
      ]
     },
     "metadata": {},
     "output_type": "display_data"
    }
   ],
   "source": [
    "double[] metricValues = \n",
    "    { \n",
    "        qualityMetrics.MeanAbsoluteError, \n",
    "        qualityMetrics.MeanSquaredError, \n",
    "        qualityMetrics.RootMeanSquaredError, \n",
    "        qualityMetrics.LossFunction, \n",
    "        qualityMetrics.RSquared\n",
    "    };\n",
    "\n",
    "var graph = new Graph.Bar()\n",
    "{\n",
    "    x = metricValues, y = metricNames,\n",
    "    orientation = \"h\",  marker = new Graph.Marker { color = \"darkred\" }\n",
    "};\n",
    "\n",
    "var chart = Chart.Plot(graph);\n",
    "\n",
    "var layout = new Layout.Layout(){ title=\"Quality Metrics\" };\n",
    "chart.WithLayout(layout);\n",
    "\n",
    "display(chart);"
   ]
  },
  {
   "cell_type": "markdown",
   "metadata": {},
   "source": [
    "### Calculate and Visualize the Feature Contributions"
   ]
  },
  {
   "cell_type": "code",
   "execution_count": 11,
   "metadata": {},
   "outputs": [
    {
     "data": {
      "text/html": [
       "<div id=\"369c8394-2ae8-4ad9-a4a0-42f00d28d11d\" style=\"width: 900px; height: 500px;\"></div><script type=\"text/javascript\">\r\n",
       "\r\n",
       "var renderPlotly = function() {\r\n",
       "    var xplotRequire = requirejs.config({context:'xplot-2.0.0',paths:{plotly:'https://cdn.plot.ly/plotly-1.49.2.min'}});\r\n",
       "    xplotRequire(['plotly'], function(Plotly) {\r\n",
       "\n",
       "            var data = [{\"type\":\"bar\",\"x\":[-0.49832037,-0.5059905,-0.05253887,0.1835016,-0.054029435,0.23637635,-0.15385674,0.14402924,0.58877563,0.27532434,3.923124],\"y\":[\"FixedAcidity\",\"VolatileAcidity\",\"CitricAcid\",\"ResidualSugar\",\"Chlorides\",\"FreeSulfurDioxide\",\"TotalSulfurDioxide\",\"Density\",\"Ph\",\"Sulphates\",\"Alcohol\"],\"orientation\":\"h\",\"marker\":{\"color\":\"darkblue\"}}];\n",
       "            var layout = {\"title\":\"Feature Contributions\"};\n",
       "            Plotly.newPlot('369c8394-2ae8-4ad9-a4a0-42f00d28d11d', data, layout);\n",
       "        });\r\n",
       "};\r\n",
       "if ((typeof(requirejs) !==  typeof(Function)) || (typeof(requirejs.config) !== typeof(Function))) { \r\n",
       "    var script = document.createElement(\"script\"); \r\n",
       "    script.setAttribute(\"src\", \"https://cdnjs.cloudflare.com/ajax/libs/require.js/2.3.6/require.min.js\"); \r\n",
       "    script.onload = function(){\r\n",
       "        renderPlotly();\r\n",
       "    };\r\n",
       "    document.getElementsByTagName(\"head\")[0].appendChild(script); \r\n",
       "}\r\n",
       "else {\r\n",
       "    renderPlotly();\r\n",
       "}\r\n",
       "</script>"
      ]
     },
     "metadata": {},
     "output_type": "display_data"
    }
   ],
   "source": [
    "var regressionModel = model.Last() as RegressionPredictionTransformer<LinearRegressionModelParameters>;\n",
    "var contributions = regressionModel.Model.Weights;\n",
    "\n",
    "var graph2 = new Graph.Bar()\n",
    "{\n",
    "    x = contributions,\n",
    "    y = featureNames,\n",
    "    orientation = \"h\",\n",
    "    marker = new Graph.Marker { color = \"darkblue\" }\n",
    "};\n",
    "\n",
    "var chart2 = Chart.Plot(graph2);\n",
    "\n",
    "var layout2 = new Layout.Layout(){ title=\"Feature Contributions\" };\n",
    "chart2.WithLayout(layout2);\n",
    "\n",
    "display(chart2);"
   ]
  },
  {
   "cell_type": "markdown",
   "metadata": {},
   "source": [
    "### Create a prediction engine and use it on a random sample"
   ]
  },
  {
   "cell_type": "code",
   "execution_count": 12,
   "metadata": {},
   "outputs": [
    {
     "data": {
      "text/html": [
       "<table><thead><tr><th>FixedAcidity</th><th>VolatileAcidity</th><th>CitricAcid</th><th>ResidualSugar</th><th>Chlorides</th><th>FreeSulfurDioxide</th><th>TotalSulfurDioxide</th><th>Density</th><th>Ph</th><th>Sulphates</th><th>Alcohol</th><th>Label</th></tr></thead><tbody><tr><td>6.4</td><td>0.33</td><td>0.28</td><td>1.1</td><td>0.038</td><td>30</td><td>110</td><td>0.9917</td><td>3.12</td><td>0.42</td><td>10.5</td><td>6</td></tr></tbody></table>"
      ]
     },
     "metadata": {},
     "output_type": "display_data"
    },
    {
     "data": {
      "text/html": [
       "<table><thead><tr><th>Label</th><th>PredictedLabel</th></tr></thead><tbody><tr><td>6</td><td>5.665756</td></tr></tbody></table>"
      ]
     },
     "metadata": {},
     "output_type": "display_data"
    }
   ],
   "source": [
    "// Create prediction engine\n",
    "var predictionEngine = mlContext.Model.CreatePredictionEngine<RegressionData, RegressionPrediction>(model);\n",
    "\n",
    "// Get a random data sample\n",
    "var shuffledData = mlContext.Data.ShuffleRows(trainingData);\n",
    "var rawSample = mlContext.Data.TakeRows(shuffledData, 1);\n",
    "var sample = mlContext.Data.CreateEnumerable<RegressionData>(rawSample, false).First();\n",
    "display(sample);\n",
    "\n",
    "// Predict quality of sample\n",
    "var prediction = predictionEngine.Predict(sample);\n",
    "display(prediction);"
   ]
  }
 ],
 "metadata": {
  "kernelspec": {
   "display_name": ".NET (C#)",
   "language": "C#",
   "name": ".net-csharp"
  },
  "language_info": {
   "file_extension": ".cs",
   "mimetype": "text/x-csharp",
   "name": "C#",
   "pygments_lexer": "csharp",
   "version": "8.0"
  }
 },
 "nbformat": 4,
 "nbformat_minor": 2
}
