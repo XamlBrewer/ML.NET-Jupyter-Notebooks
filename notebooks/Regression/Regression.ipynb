{
 "cells": [
  {
   "cell_type": "markdown",
   "metadata": {},
   "source": [
    "## ML.NET Regression\n",
    "Creates a regression model to predict the quality of wine using 11 physicochemical features"
   ]
  },
  {
   "cell_type": "markdown",
   "metadata": {},
   "source": [
    "### NuGet package installation"
   ]
  },
  {
   "cell_type": "code",
   "execution_count": 1,
   "metadata": {},
   "outputs": [
    {
     "data": {
      "text/html": [
       "Installing package Microsoft.ML, version 1.4.0......................done!"
      ]
     },
     "metadata": {},
     "output_type": "display_data"
    },
    {
     "data": {
      "text/html": [
       "Successfully added reference to package Microsoft.ML, version 1.4.0"
      ]
     },
     "metadata": {},
     "output_type": "display_data"
    },
    {
     "data": {
      "text/html": [
       "Installing package XPlot.Plotly, version 3.0.1......done!"
      ]
     },
     "metadata": {},
     "output_type": "display_data"
    },
    {
     "data": {
      "text/html": [
       "Successfully added reference to package XPlot.Plotly, version 3.0.1"
      ]
     },
     "metadata": {},
     "output_type": "display_data"
    }
   ],
   "source": [
    "#r \"nuget:Microsoft.ML, 1.4.0\"\n",
    "#r \"nuget:XPlot.Plotly, 3.0.1\""
   ]
  },
  {
   "cell_type": "markdown",
   "metadata": {},
   "source": [
    "### Namespaces"
   ]
  },
  {
   "cell_type": "code",
   "execution_count": 2,
   "metadata": {},
   "outputs": [],
   "source": [
    "using Microsoft.ML;\n",
    "using Microsoft.ML.Data;\n",
    "using Microsoft.ML.Trainers;\n",
    "using Microsoft.ML.Transforms;\n",
    "using XPlot.Plotly;"
   ]
  },
  {
   "cell_type": "markdown",
   "metadata": {},
   "source": [
    "### Input Class Definition"
   ]
  },
  {
   "cell_type": "code",
   "execution_count": 3,
   "metadata": {},
   "outputs": [],
   "source": [
    "public class RegressionData\n",
    "{\n",
    "    [LoadColumn(0)]\n",
    "    public float FixedAcidity;\n",
    "\n",
    "    [LoadColumn(1)]\n",
    "    public float VolatileAcidity;\n",
    "\n",
    "    [LoadColumn(2)]\n",
    "    public float CitricAcid;\n",
    "\n",
    "    [LoadColumn(3)]\n",
    "    public float ResidualSugar;\n",
    "\n",
    "    [LoadColumn(4)]\n",
    "    public float Chlorides;\n",
    "\n",
    "    [LoadColumn(5)]\n",
    "    public float FreeSulfurDioxide;\n",
    "\n",
    "    [LoadColumn(6)]\n",
    "    public float TotalSulfurDioxide;\n",
    "\n",
    "    [LoadColumn(7)]\n",
    "    public float Density;\n",
    "\n",
    "    [LoadColumn(8)]\n",
    "    public float Ph;\n",
    "\n",
    "    [LoadColumn(9)]\n",
    "    public float Sulphates;\n",
    "\n",
    "    [LoadColumn(10)]\n",
    "    public float Alcohol;\n",
    "\n",
    "    [LoadColumn(11)]\n",
    "    public float Label;\n",
    "}\n"
   ]
  },
  {
   "cell_type": "markdown",
   "metadata": {},
   "source": [
    "### Output Class Definition"
   ]
  },
  {
   "cell_type": "code",
   "execution_count": 4,
   "metadata": {},
   "outputs": [],
   "source": [
    "public class RegressionPrediction\n",
    "{\n",
    "    [ColumnName(\"Label\")]\n",
    "    public float Rating;\n",
    "\n",
    "    [ColumnName(\"Score\")]\n",
    "    public float Confidence;\n",
    "}"
   ]
  },
  {
   "cell_type": "markdown",
   "metadata": {},
   "source": [
    "### Read the Raw Data"
   ]
  },
  {
   "cell_type": "code",
   "execution_count": 5,
   "metadata": {},
   "outputs": [],
   "source": [
    "var mlContext = new MLContext(seed: null);\n",
    "\n",
    "var trainingData = mlContext.Data.LoadFromTextFile<RegressionData>(\n",
    "    \"./WineQuality_White_Train.csv\", \n",
    "    separatorChar: ';',\n",
    "    hasHeader: true);"
   ]
  },
  {
   "cell_type": "markdown",
   "metadata": {},
   "source": [
    "### Prepare the Data"
   ]
  },
  {
   "cell_type": "code",
   "execution_count": 6,
   "metadata": {},
   "outputs": [],
   "source": [
    "var pipeline =\n",
    "    mlContext.Transforms.ReplaceMissingValues(\n",
    "        outputColumnName: \"PreparedFixedAcidity\",\n",
    "        inputColumnName: \"FixedAcidity\",\n",
    "        replacementMode: MissingValueReplacingEstimator.ReplacementMode.Mean)\n",
    "    .Append(mlContext.Transforms.DropColumns(\"FixedAcidity\"))\n",
    "    .Append(mlContext.Transforms.Concatenate(\"Features\",\n",
    "        new[]\n",
    "        {\n",
    "          \"PreparedFixedAcidity\",\n",
    "          \"VolatileAcidity\",\n",
    "          \"CitricAcid\",\n",
    "          \"ResidualSugar\",\n",
    "          \"Chlorides\",\n",
    "          \"FreeSulfurDioxide\",\n",
    "          \"TotalSulfurDioxide\",\n",
    "          \"Density\",\n",
    "          \"Ph\",\n",
    "          \"Sulphates\",\n",
    "          \"Alcohol\"\n",
    "        }))\n",
    "    .Append(mlContext.Transforms.NormalizeMeanVariance(\"Features\"))\n",
    "    .Append(mlContext.Regression.Trainers.Sdca());"
   ]
  },
  {
   "cell_type": "markdown",
   "metadata": {},
   "source": [
    "### Train the Model"
   ]
  },
  {
   "cell_type": "code",
   "execution_count": 7,
   "metadata": {},
   "outputs": [],
   "source": [
    "var model = pipeline.Fit(trainingData);"
   ]
  },
  {
   "cell_type": "markdown",
   "metadata": {},
   "source": [
    "### Evaluate the Model"
   ]
  },
  {
   "cell_type": "code",
   "execution_count": 8,
   "metadata": {},
   "outputs": [
    {
     "data": {
      "text/html": [
       "<table><thead><tr><th>MeanAbsoluteError</th><th>MeanSquaredError</th><th>RootMeanSquaredError</th><th>LossFunction</th><th>RSquared</th></tr></thead><tbody><tr><td>0.5446163536211767</td><td>0.5035486568885765</td><td>0.7096116239807353</td><td>0.5035486552056491</td><td>0.16279574692230847</td></tr></tbody></table>"
      ]
     },
     "metadata": {},
     "output_type": "display_data"
    }
   ],
   "source": [
    "// Load the raw test data.\n",
    "var testData = mlContext.Data.LoadFromTextFile<RegressionData>(\n",
    "    \"./WineQuality_White_Test.csv\", \n",
    "    separatorChar: ';',\n",
    "    hasHeader: true);\n",
    "\n",
    "// Score the test data and calculate the metrics.\n",
    "var scoredData = model.Transform(testData);\n",
    "var qualityMetrics =  mlContext.Regression.Evaluate(scoredData);\n",
    "display(qualityMetrics);"
   ]
  },
  {
   "cell_type": "markdown",
   "metadata": {},
   "source": [
    "### Visualize the Quality Metrics"
   ]
  },
  {
   "cell_type": "code",
   "execution_count": 9,
   "metadata": {},
   "outputs": [
    {
     "data": {
      "text/html": [
       "<div id=\"fcf1940d-1103-459b-a7de-771d5042e44e\" style=\"width: 900px; height: 500px;\"></div><script type=\"text/javascript\">\r\n",
       "\r\n",
       "var renderPlotly = function() {\r\n",
       "    var xplotRequire = requirejs.config({context:'xplot-2.0.0',paths:{plotly:'https://cdn.plot.ly/plotly-1.49.2.min'}});\r\n",
       "    xplotRequire(['plotly'], function(Plotly) {\r\n",
       "\n",
       "            var data = [{\"type\":\"bar\",\"x\":[0.5446163536211767,0.5035486568885765,0.7096116239807353,0.5035486552056491,0.16279574692230847],\"y\":[\"Mean Absolute Error\",\"Mean Squared Error\",\"Root Mean Squared Error\",\"Loss Function\",\"R Squared\"],\"orientation\":\"h\",\"marker\":{\"color\":\"darkred\"}}];\n",
       "            var layout = {\"title\":\"Quality Metrics\"};\n",
       "            Plotly.newPlot('fcf1940d-1103-459b-a7de-771d5042e44e', data, layout);\n",
       "        });\r\n",
       "};\r\n",
       "if ((typeof(requirejs) !==  typeof(Function)) || (typeof(requirejs.config) !== typeof(Function))) { \r\n",
       "    var script = document.createElement(\"script\"); \r\n",
       "    script.setAttribute(\"src\", \"https://cdnjs.cloudflare.com/ajax/libs/require.js/2.3.6/require.min.js\"); \r\n",
       "    script.onload = function(){\r\n",
       "        renderPlotly();\r\n",
       "    };\r\n",
       "    document.getElementsByTagName(\"head\")[0].appendChild(script); \r\n",
       "}\r\n",
       "else {\r\n",
       "    renderPlotly();\r\n",
       "}\r\n",
       "</script>"
      ]
     },
     "metadata": {},
     "output_type": "display_data"
    }
   ],
   "source": [
    "string[] metricNames = \n",
    "    { \n",
    "        \"Mean Absolute Error\", \n",
    "        \"Mean Squared Error\", \n",
    "        \"Root Mean Squared Error\", \n",
    "        \"Loss Function\", \n",
    "        \"R Squared\"\n",
    "    };\n",
    "\n",
    "double[] metricValues = \n",
    "    { \n",
    "        qualityMetrics.MeanAbsoluteError, \n",
    "        qualityMetrics.MeanSquaredError, \n",
    "        qualityMetrics.RootMeanSquaredError, \n",
    "        qualityMetrics.LossFunction, \n",
    "        qualityMetrics.RSquared\n",
    "    };\n",
    "\n",
    "var graph = new Graph.Bar()\n",
    "{\n",
    "    x = metricValues,\n",
    "    y = metricNames,\n",
    "    orientation = \"h\",\n",
    "    marker = new Graph.Marker { color = \"darkred\" }\n",
    "};\n",
    "\n",
    "var chart = Chart.Plot(graph);\n",
    "\n",
    "var layout = new Layout.Layout(){ title=\"Quality Metrics\" };\n",
    "chart.WithLayout(layout);\n",
    "\n",
    "display(chart);"
   ]
  },
  {
   "cell_type": "markdown",
   "metadata": {},
   "source": [
    "### Calculate and Visualize the Feature Contributions"
   ]
  },
  {
   "cell_type": "code",
   "execution_count": 38,
   "metadata": {},
   "outputs": [
    {
     "data": {
      "text/html": [
       "<div id=\"375b9db7-02c5-4c2e-94b9-2d66a567e5f9\" style=\"width: 900px; height: 500px;\"></div><script type=\"text/javascript\">\r\n",
       "\r\n",
       "var renderPlotly = function() {\r\n",
       "    var xplotRequire = requirejs.config({context:'xplot-2.0.0',paths:{plotly:'https://cdn.plot.ly/plotly-1.49.2.min'}});\r\n",
       "    xplotRequire(['plotly'], function(Plotly) {\r\n",
       "\n",
       "            var data = [{\"type\":\"bar\",\"x\":[-0.52839655,-0.5353831,-0.033526663,0.20452423,-0.04336772,0.23056683,-0.15169504,-0.21361831,0.53158855,0.28562808,3.893118],\"y\":[\"FixedAcidity\",\"VolatileAcidity\",\"CitricAcid\",\"ResidualSugar\",\"Chlorides\",\"FreeSulfurDioxide\",\"TotalSulfurDioxide\",\"Density\",\"Ph\",\"Sulphates\",\"Alcohol\"],\"orientation\":\"h\",\"marker\":{\"color\":\"darkblue\"}}];\n",
       "            var layout = {\"title\":\"Feature Contributions\"};\n",
       "            Plotly.newPlot('375b9db7-02c5-4c2e-94b9-2d66a567e5f9', data, layout);\n",
       "        });\r\n",
       "};\r\n",
       "if ((typeof(requirejs) !==  typeof(Function)) || (typeof(requirejs.config) !== typeof(Function))) { \r\n",
       "    var script = document.createElement(\"script\"); \r\n",
       "    script.setAttribute(\"src\", \"https://cdnjs.cloudflare.com/ajax/libs/require.js/2.3.6/require.min.js\"); \r\n",
       "    script.onload = function(){\r\n",
       "        renderPlotly();\r\n",
       "    };\r\n",
       "    document.getElementsByTagName(\"head\")[0].appendChild(script); \r\n",
       "}\r\n",
       "else {\r\n",
       "    renderPlotly();\r\n",
       "}\r\n",
       "</script>"
      ]
     },
     "metadata": {},
     "output_type": "display_data"
    }
   ],
   "source": [
    "var regressionModel = model.Last() as RegressionPredictionTransformer<LinearRegressionModelParameters>;\n",
    "var contributions = regressionModel.Model.Weights;\n",
    "// display(contributions);\n",
    "\n",
    "string[] featureNames = \n",
    "    { \n",
    "          \"FixedAcidity\",\n",
    "          \"VolatileAcidity\",\n",
    "          \"CitricAcid\",\n",
    "          \"ResidualSugar\",\n",
    "          \"Chlorides\",\n",
    "          \"FreeSulfurDioxide\",\n",
    "          \"TotalSulfurDioxide\",\n",
    "          \"Density\",\n",
    "          \"Ph\",\n",
    "          \"Sulphates\",\n",
    "          \"Alcohol\"\n",
    "    };\n",
    "\n",
    "var graph2 = new Graph.Bar()\n",
    "{\n",
    "    x = contributions,\n",
    "    y = featureNames,\n",
    "    orientation = \"h\",\n",
    "    marker = new Graph.Marker { color = \"darkblue\" }\n",
    "};\n",
    "\n",
    "var chart2 = Chart.Plot(graph2);\n",
    "\n",
    "var layout2 = new Layout.Layout(){ title=\"Feature Contributions\" };\n",
    "chart2.WithLayout(layout2);\n",
    "\n",
    "display(chart2);"
   ]
  },
  {
   "cell_type": "markdown",
   "metadata": {},
   "source": [
    "### TODO: create and use a prediction engine"
   ]
  },
  {
   "cell_type": "code",
   "execution_count": null,
   "metadata": {},
   "outputs": [],
   "source": []
  }
 ],
 "metadata": {
  "kernelspec": {
   "display_name": ".NET (C#)",
   "language": "C#",
   "name": ".net-csharp"
  },
  "language_info": {
   "file_extension": ".cs",
   "mimetype": "text/x-csharp",
   "name": "C#",
   "pygments_lexer": "csharp",
   "version": "8.0"
  }
 },
 "nbformat": 4,
 "nbformat_minor": 2
}
