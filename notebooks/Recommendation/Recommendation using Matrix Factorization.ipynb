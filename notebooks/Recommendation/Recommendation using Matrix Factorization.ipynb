{
 "cells": [
  {
   "cell_type": "markdown",
   "metadata": {},
   "source": [
    "## Recommendation using Matrix Factorization"
   ]
  },
  {
   "cell_type": "markdown",
   "metadata": {},
   "source": [
    "Recommends hotels on the Las Vegas Strip for the selected traveler type, based on 2015 TripAdvisor ratings."
   ]
  },
  {
   "cell_type": "markdown",
   "metadata": {},
   "source": [
    "### NuGet packages"
   ]
  },
  {
   "cell_type": "code",
   "execution_count": 1,
   "metadata": {},
   "outputs": [
    {
     "data": {
      "text/html": [
       "Installing package Microsoft.ML, version 1.4.0........................done!"
      ]
     },
     "metadata": {},
     "output_type": "display_data"
    },
    {
     "data": {
      "text/html": [
       "Successfully added reference to package Microsoft.ML, version 1.4.0"
      ]
     },
     "metadata": {},
     "output_type": "display_data"
    },
    {
     "data": {
      "text/html": [
       "Installing package Microsoft.ML.Recommender, version 0.16.0........done!"
      ]
     },
     "metadata": {},
     "output_type": "display_data"
    },
    {
     "data": {
      "text/html": [
       "Successfully added reference to package Microsoft.ML.Recommender, version 0.16.0"
      ]
     },
     "metadata": {},
     "output_type": "display_data"
    },
    {
     "data": {
      "text/html": [
       "Installing package XPlot.Plotly, version 3.0.1.........done!"
      ]
     },
     "metadata": {},
     "output_type": "display_data"
    },
    {
     "data": {
      "text/html": [
       "Successfully added reference to package XPlot.Plotly, version 3.0.1"
      ]
     },
     "metadata": {},
     "output_type": "display_data"
    }
   ],
   "source": [
    "#r \"nuget:Microsoft.ML, 1.4.0\"\n",
    "#r \"nuget:Microsoft.ML.Recommender, 0.16.0\"\n",
    "#r \"nuget:XPlot.Plotly, 3.0.1\""
   ]
  },
  {
   "cell_type": "markdown",
   "metadata": {},
   "source": [
    "### Namespaces"
   ]
  },
  {
   "cell_type": "code",
   "execution_count": 2,
   "metadata": {},
   "outputs": [],
   "source": [
    "using Microsoft.ML;\n",
    "using Microsoft.ML.Data;\n",
    "using Microsoft.ML.Trainers;\n",
    "using XPlot.Plotly;\n",
    "using System.IO;\n",
    "using System.Linq;"
   ]
  },
  {
   "cell_type": "markdown",
   "metadata": {},
   "source": [
    "### Input class definition"
   ]
  },
  {
   "cell_type": "code",
   "execution_count": 3,
   "metadata": {},
   "outputs": [],
   "source": [
    "public class RecommendationData\n",
    "{\n",
    "    public float Label;\n",
    "\n",
    "    public string TravelerType;\n",
    "\n",
    "    public string Hotel;\n",
    "}"
   ]
  },
  {
   "cell_type": "markdown",
   "metadata": {},
   "source": [
    "### Output class definition"
   ]
  },
  {
   "cell_type": "code",
   "execution_count": 4,
   "metadata": {},
   "outputs": [],
   "source": [
    "public class RecommendationPrediction\n",
    "{\n",
    "    public float Score;\n",
    "\n",
    "    public string TravelerType;\n",
    "\n",
    "    public string Hotel;\n",
    "}"
   ]
  },
  {
   "cell_type": "markdown",
   "metadata": {},
   "source": [
    "### Read the raw data"
   ]
  },
  {
   "cell_type": "code",
   "execution_count": 5,
   "metadata": {},
   "outputs": [],
   "source": [
    "var mlContext = new MLContext(seed: null);\n",
    "\n",
    "// Populating an IDataView from an IEnumerable.\n",
    "var allData = File.ReadAllLines(\"./LasVegasTripAdvisorReviews.csv\")\n",
    "    .Skip(1)\n",
    "    .Select(x => x.Split(';'))\n",
    "    .Select(x => new RecommendationData\n",
    "    {\n",
    "        Label = uint.Parse(x[4]),\n",
    "        TravelerType = x[6],\n",
    "        Hotel = x[13]\n",
    "    });\n",
    "    \n",
    "var data = allData\n",
    "    .OrderBy(x => (x.GetHashCode())) // Cheap Randomization.\n",
    "    .Take(400);\n",
    "\n",
    "var trainingData = mlContext.Data.LoadFromEnumerable(data);\n",
    "\n",
    "// Keep in memory.\n",
    "trainingData = mlContext.Data.Cache(trainingData);"
   ]
  },
  {
   "cell_type": "markdown",
   "metadata": {},
   "source": [
    "### Prepare the data"
   ]
  },
  {
   "cell_type": "code",
   "execution_count": 6,
   "metadata": {},
   "outputs": [],
   "source": [
    "var pipeline = mlContext.Transforms.Conversion.MapValueToKey(\"Hotel\")\n",
    "                .Append(mlContext.Transforms.Conversion.MapValueToKey(\"TravelerType\"))\n",
    "                .Append(mlContext.Recommendation().Trainers.MatrixFactorization(\n",
    "                                    labelColumnName: \"Label\",\n",
    "                                    matrixColumnIndexColumnName: \"Hotel\",\n",
    "                                    matrixRowIndexColumnName: \"TravelerType\",\n",
    "                                    // Optional fine tuning:\n",
    "                                    numberOfIterations: 20,\n",
    "                                    approximationRank: 8,\n",
    "                                    learningRate: 0.4))\n",
    "                .Append(mlContext.Transforms.Conversion.MapKeyToValue(\"Hotel\"))\n",
    "                .Append(mlContext.Transforms.Conversion.MapKeyToValue(\"TravelerType\"));"
   ]
  },
  {
   "cell_type": "markdown",
   "metadata": {},
   "source": [
    "### Train the model"
   ]
  },
  {
   "cell_type": "code",
   "execution_count": 7,
   "metadata": {},
   "outputs": [],
   "source": [
    "var model = pipeline.Fit(trainingData);"
   ]
  },
  {
   "cell_type": "markdown",
   "metadata": {},
   "source": [
    "### Evaluate the model"
   ]
  },
  {
   "cell_type": "code",
   "execution_count": 13,
   "metadata": {},
   "outputs": [
    {
     "data": {
      "text/html": [
       "<table><thead><tr><th>MeanAbsoluteError</th><th>MeanSquaredError</th><th>RootMeanSquaredError</th><th>LossFunction</th><th>RSquared</th></tr></thead><tbody><tr><td>0.8710300326347351</td><td>1.0979586175922764</td><td>1.0478352053602114</td><td>1.097958618457756</td><td>-0.14017354302269291</td></tr></tbody></table>"
      ]
     },
     "execution_count": 13,
     "metadata": {},
     "output_type": "execute_result"
    }
   ],
   "source": [
    "data = allData\n",
    "    .OrderBy(x => (x.GetHashCode())) // Cheap Randomization.\n",
    "    .TakeLast(200);\n",
    "\n",
    "var testData = mlContext.Data.LoadFromEnumerable(data);\n",
    "var scoredData = model.Transform(testData);\n",
    "var metrics = mlContext.Recommendation().Evaluate(scoredData);\n",
    "\n",
    "// REPL: Read-Evaluate-Print loop\n",
    "metrics"
   ]
  },
  {
   "cell_type": "markdown",
   "metadata": {},
   "source": [
    "### Values"
   ]
  },
  {
   "cell_type": "code",
   "execution_count": 9,
   "metadata": {},
   "outputs": [
    {
     "data": {
      "text/html": [
       "<table><thead><tr><th><i>index</i></th><th>value</th></tr></thead><tbody><tr><td>0</td><td>Bellagio Las Vegas</td></tr><tr><td>1</td><td>Caesars Palace</td></tr><tr><td>2</td><td>Circus Circus Hotel &amp; Casino Las Vegas</td></tr><tr><td>3</td><td>Encore at wynn Las Vegas</td></tr><tr><td>4</td><td>Excalibur Hotel &amp; Casino</td></tr><tr><td>5</td><td>Hilton Grand Vacations at the Flamingo</td></tr><tr><td>6</td><td>Hilton Grand Vacations on the Boulevard</td></tr><tr><td>7</td><td>Marriott&#39;s Grand Chateau</td></tr><tr><td>8</td><td>Monte Carlo Resort&amp;Casino</td></tr><tr><td>9</td><td>Paris Las Vegas</td></tr><tr><td>10</td><td>The Cosmopolitan Las Vegas</td></tr><tr><td>11</td><td>The Cromwell</td></tr><tr><td>12</td><td>The Palazzo Resort Hotel Casino</td></tr><tr><td>13</td><td>The Venetian Las Vegas Hotel</td></tr><tr><td>14</td><td>The Westin las Vegas Hotel Casino &amp; Spa</td></tr><tr><td>15</td><td>Treasure Island- TI Hotel &amp; Casino</td></tr><tr><td>16</td><td>Tropicana Las Vegas - A Double Tree by Hilton Hotel</td></tr><tr><td>17</td><td>Trump International Hotel Las Vegas</td></tr><tr><td>18</td><td>Tuscany Las Vegas Suites &amp; Casino</td></tr><tr><td>19</td><td>Wyndham Grand Desert</td></tr><tr><td>20</td><td>Wynn Las Vegas</td></tr></tbody></table>"
      ]
     },
     "metadata": {},
     "output_type": "display_data"
    },
    {
     "data": {
      "text/html": [
       "<table><thead><tr><th><i>index</i></th><th>value</th></tr></thead><tbody><tr><td>0</td><td>Business</td></tr><tr><td>1</td><td>Couples</td></tr><tr><td>2</td><td>Families</td></tr><tr><td>3</td><td>Friends</td></tr><tr><td>4</td><td>Solo</td></tr></tbody></table>"
      ]
     },
     "metadata": {},
     "output_type": "display_data"
    }
   ],
   "source": [
    "var hotels = allData.Select(r => r.Hotel).Distinct().ToList();\n",
    "hotels.Sort();\n",
    "display (hotels);\n",
    "\n",
    "var travelerTypes = allData.Select(r => r.TravelerType).Distinct().ToList();\n",
    "travelerTypes.Sort();\n",
    "display (travelerTypes);"
   ]
  },
  {
   "cell_type": "markdown",
   "metadata": {},
   "source": [
    "### Single prediction"
   ]
  },
  {
   "cell_type": "code",
   "execution_count": 10,
   "metadata": {},
   "outputs": [
    {
     "data": {
      "text/html": [
       "<table><thead><tr><th>Score</th><th>TravelerType</th><th>Hotel</th></tr></thead><tbody><tr><td>4.091547</td><td>Business</td><td>The Cromwell</td></tr></tbody></table>"
      ]
     },
     "metadata": {},
     "output_type": "display_data"
    }
   ],
   "source": [
    "var predictionEngine = mlContext.Model.CreatePredictionEngine<RecommendationData, RecommendationPrediction>(model);\n",
    "\n",
    "var prediction = predictionEngine.Predict(new RecommendationData\n",
    "    { \n",
    "        TravelerType = \"Business\",\n",
    "        Hotel = \"The Cromwell\"\n",
    "    });\n",
    "display(prediction);"
   ]
  },
  {
   "cell_type": "markdown",
   "metadata": {},
   "source": [
    "### Bulk prediction\n",
    "\n",
    "Predicts the score for all hotels, for one specific traveler type."
   ]
  },
  {
   "cell_type": "code",
   "execution_count": 11,
   "metadata": {},
   "outputs": [
    {
     "data": {
      "text/html": [
       "<table><thead><tr><th><i>index</i></th><th>Score</th><th>TravelerType</th><th>Hotel</th></tr></thead><tbody><tr><td>0</td><td>4.5782423</td><td>Families</td><td>Hilton Grand Vacations at the Flamingo</td></tr><tr><td>1</td><td>4.521886</td><td>Families</td><td>Encore at wynn Las Vegas</td></tr><tr><td>2</td><td>4.52161</td><td>Families</td><td>The Palazzo Resort Hotel Casino</td></tr><tr><td>3</td><td>4.4301143</td><td>Families</td><td>Paris Las Vegas</td></tr><tr><td>4</td><td>4.408109</td><td>Families</td><td>The Westin las Vegas Hotel Casino &amp; Spa</td></tr><tr><td>5</td><td>4.4050274</td><td>Families</td><td>Monte Carlo Resort&amp;Casino</td></tr><tr><td>6</td><td>4.387952</td><td>Families</td><td>The Cromwell</td></tr><tr><td>7</td><td>4.357065</td><td>Families</td><td>Trump International Hotel Las Vegas</td></tr><tr><td>8</td><td>4.3004317</td><td>Families</td><td>Bellagio Las Vegas</td></tr><tr><td>9</td><td>4.286673</td><td>Families</td><td>The Venetian Las Vegas Hotel</td></tr><tr><td>10</td><td>4.2342777</td><td>Families</td><td>Treasure Island- TI Hotel &amp; Casino</td></tr><tr><td>11</td><td>4.2272773</td><td>Families</td><td>The Cosmopolitan Las Vegas</td></tr><tr><td>12</td><td>4.133292</td><td>Families</td><td>Tropicana Las Vegas - A Double Tree by Hilton Hotel</td></tr><tr><td>13</td><td>4.132224</td><td>Families</td><td>Marriott&#39;s Grand Chateau</td></tr><tr><td>14</td><td>3.9717076</td><td>Families</td><td>Hilton Grand Vacations on the Boulevard</td></tr><tr><td>15</td><td>3.8964734</td><td>Families</td><td>Caesars Palace</td></tr><tr><td>16</td><td>3.8790998</td><td>Families</td><td>Circus Circus Hotel &amp; Casino Las Vegas</td></tr><tr><td>17</td><td>3.793819</td><td>Families</td><td>Wyndham Grand Desert</td></tr><tr><td>18</td><td>3.742117</td><td>Families</td><td>Tuscany Las Vegas Suites &amp; Casino</td></tr><tr><td>19</td><td>3.7183032</td><td>Families</td><td>Wynn Las Vegas</td></tr><tr><td>20</td><td>3.681215</td><td>Families</td><td>Excalibur Hotel &amp; Casino</td></tr></tbody></table>"
      ]
     },
     "metadata": {},
     "output_type": "display_data"
    }
   ],
   "source": [
    "var input = hotels.Select(h => new RecommendationData\n",
    "               {\n",
    "                   TravelerType = \"Families\",\n",
    "                   Hotel = h\n",
    "               }).ToList();\n",
    "var predictions = model.Transform(mlContext.Data.LoadFromEnumerable(input));\n",
    "var result = mlContext.Data.CreateEnumerable<RecommendationPrediction>(predictions, reuseRowObject: false);\n",
    "result = result.OrderByDescending(r => r.Score);\n",
    "display(result);"
   ]
  },
  {
   "cell_type": "markdown",
   "metadata": {},
   "source": [
    "### Visualization"
   ]
  },
  {
   "cell_type": "code",
   "execution_count": 16,
   "metadata": {},
   "outputs": [
    {
     "data": {
      "text/html": [
       "<div id=\"50fd9e23-ca4b-4130-bde9-c6cfc78f30d1\" style=\"width: 900px; height: 500px;\"></div><script type=\"text/javascript\">\r\n",
       "\r\n",
       "var renderPlotly = function() {\r\n",
       "    var xplotRequire = requirejs.config({context:'xplot-2.0.0',paths:{plotly:'https://cdn.plot.ly/plotly-1.49.2.min'}});\r\n",
       "    xplotRequire(['plotly'], function(Plotly) {\r\n",
       "\n",
       "            var data = [{\"type\":\"bar\",\"x\":[\"Hilton Grand Vacations at the Flamingo\",\"Encore at wynn Las Vegas\",\"The Palazzo Resort Hotel Casino\",\"Paris Las Vegas\",\"The Westin las Vegas Hotel Casino & Spa\",\"Monte Carlo Resort&Casino\",\"The Cromwell\",\"Trump International Hotel Las Vegas\",\"Bellagio Las Vegas\",\"The Venetian Las Vegas Hotel\",\"Treasure Island- TI Hotel & Casino\",\"The Cosmopolitan Las Vegas\",\"Tropicana Las Vegas - A Double Tree by Hilton Hotel\",\"Marriott's Grand Chateau\",\"Hilton Grand Vacations on the Boulevard\",\"Caesars Palace\",\"Circus Circus Hotel & Casino Las Vegas\",\"Wyndham Grand Desert\",\"Tuscany Las Vegas Suites & Casino\",\"Wynn Las Vegas\",\"Excalibur Hotel & Casino\"],\"y\":[4.5782423,4.521886,4.52161,4.4301143,4.408109,4.4050274,4.387952,4.357065,4.3004317,4.286673,4.2342777,4.2272773,4.133292,4.132224,3.9717076,3.8964734,3.8790998,3.793819,3.742117,3.7183032,3.681215],\"marker\":{\"color\":\"darkred\"}}];\n",
       "            var layout = {\"title\":\"Recommended Hotels for Families\"};\n",
       "            Plotly.newPlot('50fd9e23-ca4b-4130-bde9-c6cfc78f30d1', data, layout);\n",
       "        });\r\n",
       "};\r\n",
       "if ((typeof(requirejs) !==  typeof(Function)) || (typeof(requirejs.config) !== typeof(Function))) { \r\n",
       "    var script = document.createElement(\"script\"); \r\n",
       "    script.setAttribute(\"src\", \"https://cdnjs.cloudflare.com/ajax/libs/require.js/2.3.6/require.min.js\"); \r\n",
       "    script.onload = function(){\r\n",
       "        renderPlotly();\r\n",
       "    };\r\n",
       "    document.getElementsByTagName(\"head\")[0].appendChild(script); \r\n",
       "}\r\n",
       "else {\r\n",
       "    renderPlotly();\r\n",
       "}\r\n",
       "</script>"
      ]
     },
     "metadata": {},
     "output_type": "display_data"
    }
   ],
   "source": [
    "var graph = new Graph.Bar()\n",
    "{\n",
    "    y = result.Select(r => r.Score),\n",
    "    x = result.Select(r => r.Hotel),\n",
    "    marker = new Graph.Marker { color = \"darkred\" }\n",
    "};\n",
    "\n",
    "var chart = Chart.Plot(graph);\n",
    "\n",
    "var layout = new Layout.Layout(){ title=\"Recommended Hotels for Families\" };\n",
    "chart.WithLayout(layout);\n",
    "\n",
    "display(chart);"
   ]
  }
 ],
 "metadata": {
  "kernelspec": {
   "display_name": ".NET (C#)",
   "language": "C#",
   "name": ".net-csharp"
  },
  "language_info": {
   "file_extension": ".cs",
   "mimetype": "text/x-csharp",
   "name": "C#",
   "pygments_lexer": "csharp",
   "version": "8.0"
  }
 },
 "nbformat": 4,
 "nbformat_minor": 2
}
