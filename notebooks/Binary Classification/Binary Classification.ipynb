{
 "cells": [
  {
   "cell_type": "markdown",
   "metadata": {},
   "source": [
    "### ML.NET Binary Classification\n",
    "Creates a binary classification model to predict the quality of wine using 11 physicochemical features. Uses the DataFrame API to read the raw data and prepare it."
   ]
  },
  {
   "cell_type": "markdown",
   "metadata": {},
   "source": [
    "### NuGet package installation"
   ]
  },
  {
   "cell_type": "code",
   "execution_count": 1,
   "metadata": {},
   "outputs": [
    {
     "data": {
      "text/html": [
       "Installing package Microsoft.ML, version 1.4.0..........................done!"
      ]
     },
     "metadata": {},
     "output_type": "display_data"
    },
    {
     "data": {
      "text/html": [
       "Successfully added reference to package Microsoft.ML, version 1.4.0"
      ]
     },
     "metadata": {},
     "output_type": "display_data"
    },
    {
     "data": {
      "text/html": [
       "Installing package XPlot.Plotly, version 3.0.1........done!"
      ]
     },
     "metadata": {},
     "output_type": "display_data"
    },
    {
     "data": {
      "text/html": [
       "Successfully added reference to package XPlot.Plotly, version 3.0.1"
      ]
     },
     "metadata": {},
     "output_type": "display_data"
    }
   ],
   "source": [
    "#r \"nuget:Microsoft.ML, 1.4.0\"\n",
    "#r \"nuget:XPlot.Plotly, 3.0.1\""
   ]
  },
  {
   "cell_type": "markdown",
   "metadata": {},
   "source": [
    "### Namespaces"
   ]
  },
  {
   "cell_type": "code",
   "execution_count": 2,
   "metadata": {},
   "outputs": [],
   "source": [
    "using Microsoft.ML;\n",
    "using Microsoft.ML.Data;\n",
    "using Microsoft.ML.Trainers;\n",
    "using Microsoft.ML.Transforms;\n",
    "using XPlot.Plotly;"
   ]
  },
  {
   "cell_type": "markdown",
   "metadata": {},
   "source": [
    "### Input class definition"
   ]
  },
  {
   "cell_type": "code",
   "execution_count": 3,
   "metadata": {},
   "outputs": [],
   "source": [
    "public class BinaryClassificationData\n",
    "{\n",
    "    [LoadColumn(0)]\n",
    "    public float FixedAcidity;\n",
    "\n",
    "    [LoadColumn(1)]\n",
    "    public float VolatileAcidity;\n",
    "\n",
    "    [LoadColumn(2)]\n",
    "    public float CitricAcid;\n",
    "\n",
    "    [LoadColumn(3)]\n",
    "    public float ResidualSugar;\n",
    "\n",
    "    [LoadColumn(4)]\n",
    "    public float Chlorides;\n",
    "\n",
    "    [LoadColumn(5)]\n",
    "    public float FreeSulfurDioxide;\n",
    "\n",
    "    [LoadColumn(6)]\n",
    "    public float TotalSulfurDioxide;\n",
    "\n",
    "    [LoadColumn(7)]\n",
    "    public float Density;\n",
    "\n",
    "    [LoadColumn(8)]\n",
    "    public float Ph;\n",
    "\n",
    "    [LoadColumn(9)]\n",
    "    public float Sulphates;\n",
    "\n",
    "    [LoadColumn(10)]\n",
    "    public float Alcohol;\n",
    "\n",
    "    [LoadColumn(11)]\n",
    "    public float Quality;\n",
    "}\n",
    "\n",
    "public class RichBinaryClassificationData: BinaryClassificationData\n",
    "{\n",
    "    public bool Label => Quality > 5;\n",
    "}"
   ]
  },
  {
   "cell_type": "markdown",
   "metadata": {},
   "source": [
    "### Output class definition"
   ]
  },
  {
   "cell_type": "code",
   "execution_count": 4,
   "metadata": {},
   "outputs": [],
   "source": [
    "public class BinaryClassificationPrediction\n",
    "{\n",
    "    public bool Label;\n",
    "\n",
    "    [ColumnName(\"PredictedLabel\")]\n",
    "    public bool PredictedLabel;\n",
    "\n",
    "    public int LabelAsNumber => PredictedLabel ? 1 : 0;\n",
    "}"
   ]
  },
  {
   "cell_type": "markdown",
   "metadata": {},
   "source": [
    "### Bring in the DataFrame"
   ]
  },
  {
   "cell_type": "code",
   "execution_count": 15,
   "metadata": {},
   "outputs": [
    {
     "data": {
      "text/html": [
       "Installing package Microsoft.Data.Analysis, version 0.2.0...done!"
      ]
     },
     "metadata": {},
     "output_type": "display_data"
    },
    {
     "data": {
      "text/html": [
       "Successfully added reference to package Microsoft.Data.Analysis, version 0.2.0"
      ]
     },
     "metadata": {},
     "output_type": "display_data"
    }
   ],
   "source": [
    "#r \"nuget:Microsoft.Data.Analysis,0.2.0\"\n",
    "using Microsoft.Data.Analysis;\n",
    "using Microsoft.AspNetCore.Html;\n",
    "\n",
    "// Convenient custom formatter.\n",
    "Formatter<DataFrame>.Register((df, writer) =>\n",
    "{\n",
    "    var headers = new List<IHtmlContent>();\n",
    "    headers.Add(th(i(\"index\")));\n",
    "    headers.AddRange(df.Columns.Select(c => (IHtmlContent) th(c.Name)));\n",
    "    var rows = new List<List<IHtmlContent>>();\n",
    "    var take = 5;\n",
    "    for (var i = 0; i < Math.Min(take, df.Rows.Count); i++)\n",
    "    {\n",
    "        var cells = new List<IHtmlContent>();\n",
    "        cells.Add(td(i));\n",
    "        foreach (var obj in df.Rows[i])\n",
    "        {\n",
    "            cells.Add(td(obj));\n",
    "        }\n",
    "        rows.Add(cells);\n",
    "    }\n",
    "\n",
    "    var t = table(\n",
    "        thead(\n",
    "            headers),\n",
    "        tbody(\n",
    "            rows.Select(\n",
    "                r => tr(r))));\n",
    "\n",
    "    writer.Write(t);\n",
    "}, \"text/html\");"
   ]
  },
  {
   "cell_type": "markdown",
   "metadata": {},
   "source": [
    "### Read the raw data"
   ]
  },
  {
   "cell_type": "code",
   "execution_count": 16,
   "metadata": {},
   "outputs": [
    {
     "data": {
      "text/html": [
       "<table><thead><th><i>index</i></th><th>FixedAcidity</th><th>VolatileAcidity</th><th>CitricAcid</th><th>ResidualSugar</th><th>Chlorides</th><th>FreeSulfurDioxide</th><th>TotalSulfurDioxide</th><th>Density</th><th>Ph</th><th>Sulphates</th><th>Alcohol</th><th>Quality</th></thead><tbody><tr><td>0</td><td>7</td><td>0.27</td><td>0.36</td><td>20.7</td><td>0.045</td><td>45</td><td>170</td><td>1.001</td><td>3</td><td>0.45</td><td>8.8</td><td>6</td></tr><tr><td>1</td><td>6.3</td><td>0.3</td><td>0.34</td><td>1.6</td><td>0.049</td><td>14</td><td>132</td><td>0.994</td><td>3.3</td><td>0.49</td><td>9.5</td><td>6</td></tr><tr><td>2</td><td>8.1</td><td>0.28</td><td>0.4</td><td>6.9</td><td>0.05</td><td>30</td><td>97</td><td>0.9951</td><td>3.26</td><td>0.44</td><td>10.1</td><td>6</td></tr><tr><td>3</td><td>7.2</td><td>0.23</td><td>0.32</td><td>8.5</td><td>0.058</td><td>47</td><td>186</td><td>0.9956</td><td>3.19</td><td>0.4</td><td>9.9</td><td>6</td></tr><tr><td>4</td><td>7.2</td><td>0.23</td><td>0.32</td><td>8.5</td><td>0.058</td><td>47</td><td>186</td><td>0.9956</td><td>3.19</td><td>0.4</td><td>9.9</td><td>6</td></tr></tbody></table>"
      ]
     },
     "metadata": {},
     "output_type": "display_data"
    }
   ],
   "source": [
    "var trainingData = DataFrame.LoadCsv(\n",
    "    \"./WineQuality_White_Train.csv\",\n",
    "    separator: ';',\n",
    "    columnNames: new[]\n",
    "                {\n",
    "                    \"FixedAcidity\",\n",
    "                    \"VolatileAcidity\",\n",
    "                    \"CitricAcid\",\n",
    "                    \"ResidualSugar\",\n",
    "                    \"Chlorides\",\n",
    "                    \"FreeSulfurDioxide\",\n",
    "                    \"TotalSulfurDioxide\",\n",
    "                    \"Density\",\n",
    "                    \"Ph\",\n",
    "                    \"Sulphates\",\n",
    "                    \"Alcohol\",\n",
    "                    \"Quality\"\n",
    "                });\n",
    "\n",
    "display(trainingData);"
   ]
  },
  {
   "cell_type": "markdown",
   "metadata": {},
   "source": [
    "### Prepare the data"
   ]
  },
  {
   "cell_type": "code",
   "execution_count": 17,
   "metadata": {},
   "outputs": [
    {
     "data": {
      "text/html": [
       "<table><thead><th><i>index</i></th><th>FixedAcidity</th><th>VolatileAcidity</th><th>CitricAcid</th><th>ResidualSugar</th><th>Chlorides</th><th>FreeSulfurDioxide</th><th>TotalSulfurDioxide</th><th>Density</th><th>Ph</th><th>Sulphates</th><th>Alcohol</th><th>Quality</th><th>Label</th></thead><tbody><tr><td>0</td><td>7</td><td>0.27</td><td>0.36</td><td>20.7</td><td>0.045</td><td>45</td><td>170</td><td>1.001</td><td>3</td><td>0.45</td><td>8.8</td><td>6</td><td>True</td></tr><tr><td>1</td><td>6.3</td><td>0.3</td><td>0.34</td><td>1.6</td><td>0.049</td><td>14</td><td>132</td><td>0.994</td><td>3.3</td><td>0.49</td><td>9.5</td><td>6</td><td>True</td></tr><tr><td>2</td><td>8.1</td><td>0.28</td><td>0.4</td><td>6.9</td><td>0.05</td><td>30</td><td>97</td><td>0.9951</td><td>3.26</td><td>0.44</td><td>10.1</td><td>6</td><td>True</td></tr><tr><td>3</td><td>7.2</td><td>0.23</td><td>0.32</td><td>8.5</td><td>0.058</td><td>47</td><td>186</td><td>0.9956</td><td>3.19</td><td>0.4</td><td>9.9</td><td>6</td><td>True</td></tr><tr><td>4</td><td>7.2</td><td>0.23</td><td>0.32</td><td>8.5</td><td>0.058</td><td>47</td><td>186</td><td>0.9956</td><td>3.19</td><td>0.4</td><td>9.9</td><td>6</td><td>True</td></tr></tbody></table>"
      ]
     },
     "metadata": {},
     "output_type": "display_data"
    }
   ],
   "source": [
    "// Create the Label column and add it to the data.\n",
    "var labelCol = trainingData[\"Quality\"].ElementwiseGreaterThanOrEqual(6);\n",
    "labelCol.SetName(\"Label\");\n",
    "trainingData.Columns.Add(labelCol);\n",
    "// This works, but ruins the evaluation step:\n",
    "// trainingData.Columns.Remove(trainingData[\"Quality\"]);\n",
    "\n",
    "display(trainingData);"
   ]
  },
  {
   "cell_type": "code",
   "execution_count": 8,
   "metadata": {},
   "outputs": [],
   "source": [
    "var mlContext = new MLContext(seed: null);\n",
    "\n",
    "// Define the pipeline.\n",
    "var pipeline =\n",
    "        mlContext.Transforms.ReplaceMissingValues(\n",
    "            outputColumnName: \"FixedAcidity\",\n",
    "            replacementMode: MissingValueReplacingEstimator.ReplacementMode.Mean)\n",
    "        .Append(mlContext.Transforms.Concatenate(\"Features\",\n",
    "            new[]\n",
    "            {\n",
    "                \"FixedAcidity\",\n",
    "                \"VolatileAcidity\",\n",
    "                \"CitricAcid\",\n",
    "                \"ResidualSugar\",\n",
    "                \"Chlorides\",\n",
    "                \"FreeSulfurDioxide\",\n",
    "                \"TotalSulfurDioxide\",\n",
    "                \"Density\",\n",
    "                \"Ph\",\n",
    "                \"Sulphates\",\n",
    "                \"Alcohol\"\n",
    "            }))\n",
    "        .Append(mlContext.BinaryClassification.Trainers.LbfgsLogisticRegression());"
   ]
  },
  {
   "cell_type": "markdown",
   "metadata": {},
   "source": [
    "### Train the model"
   ]
  },
  {
   "cell_type": "code",
   "execution_count": 9,
   "metadata": {},
   "outputs": [],
   "source": [
    "var model = pipeline.Fit(trainingData);"
   ]
  },
  {
   "cell_type": "markdown",
   "metadata": {},
   "source": [
    "### Evaluate the model"
   ]
  },
  {
   "cell_type": "code",
   "execution_count": 73,
   "metadata": {},
   "outputs": [
    {
     "data": {
      "text/html": [
       "<table><thead><tr><th>LogLoss</th><th>LogLossReduction</th><th>Entropy</th><th>AreaUnderRocCurve</th><th>Accuracy</th><th>PositivePrecision</th><th>PositiveRecall</th><th>NegativePrecision</th><th>NegativeRecall</th><th>F1Score</th><th>AreaUnderPrecisionRecallCurve</th><th>ConfusionMatrix</th></tr></thead><tbody><tr><td>0.7452045259897784</td><td>0.1974004033343476</td><td>0.928488537853348</td><td>0.7909630566845476</td><td>0.7390860352310442</td><td>0.764524948735475</td><td>0.8704280155642024</td><td>0.6639757820383451</td><td>0.4884929472902747</td><td>0.8140465793304221</td><td>0.8749940309174482</td><td>{ Microsoft.ML.Data.ConfusionMatrix: PerClassPrecision: [ 0.764524948735475, 0.6639757820383451 ], PerClassRecall: [ 0.8704280155642024, 0.4884929472902747 ], Counts: [ [ 2237, 333 ], [ 689, 658 ] ], NumberOfClasses: 2 }</td></tr></tbody></table>"
      ]
     },
     "metadata": {},
     "output_type": "display_data"
    }
   ],
   "source": [
    "// Load the raw test data.\n",
    "var testData = mlContext.Data.LoadFromTextFile<BinaryClassificationData>(\n",
    "    \"./WineQuality_White_Test.csv\", \n",
    "    separatorChar: ';',\n",
    "    hasHeader: true);\n",
    "    \n",
    "// Calculate the Label (IDataView to IEnumerable to IDataView).    \n",
    "var stronglyTypedTestData = mlContext.Data.CreateEnumerable<RichBinaryClassificationData>(trainingData, false);\n",
    "testData = mlContext.Data.LoadFromEnumerable(stronglyTypedTestData);\n",
    "\n",
    "// Score the test data and calculate the metrics.\n",
    "var scoredData = model.Transform(testData);\n",
    "var qualityMetrics =  mlContext.BinaryClassification.Evaluate(scoredData);\n",
    "display(qualityMetrics);"
   ]
  },
  {
   "cell_type": "markdown",
   "metadata": {},
   "source": [
    "### Visualize the quality metrics"
   ]
  },
  {
   "cell_type": "code",
   "execution_count": 18,
   "metadata": {
    "scrolled": true
   },
   "outputs": [
    {
     "data": {
      "text/html": [
       "<div id=\"4fc9299a-01b9-4404-98c6-8227dfeb2e75\" style=\"width: 900px; height: 500px;\"></div><script type=\"text/javascript\">\r\n",
       "\r\n",
       "var renderPlotly = function() {\r\n",
       "    var xplotRequire = requirejs.config({context:'xplot-2.0.0',paths:{plotly:'https://cdn.plot.ly/plotly-1.49.2.min'}});\r\n",
       "    xplotRequire(['plotly'], function(Plotly) {\r\n",
       "\n",
       "            var data = [{\"type\":\"bar\",\"x\":[0.7452045259897784,0.1974004033343476,0.928488537853348,0.7909630566845476,0.7390860352310442,0.8704280155642024,0.4884929472902747,0.8140465793304221],\"y\":[\"Log Loss\",\"Log Loss Reduction\",\"Entropy\",\"Area Under Curve\",\"Accuracy\",\"Positive Recall\",\"Negative Recall\",\"F1 Score\"],\"orientation\":\"h\",\"marker\":{\"color\":\"darkred\"}}];\n",
       "            var layout = {\"title\":\"Quality Metrics\"};\n",
       "            Plotly.newPlot('4fc9299a-01b9-4404-98c6-8227dfeb2e75', data, layout);\n",
       "        });\r\n",
       "};\r\n",
       "if ((typeof(requirejs) !==  typeof(Function)) || (typeof(requirejs.config) !== typeof(Function))) { \r\n",
       "    var script = document.createElement(\"script\"); \r\n",
       "    script.setAttribute(\"src\", \"https://cdnjs.cloudflare.com/ajax/libs/require.js/2.3.6/require.min.js\"); \r\n",
       "    script.onload = function(){\r\n",
       "        renderPlotly();\r\n",
       "    };\r\n",
       "    document.getElementsByTagName(\"head\")[0].appendChild(script); \r\n",
       "}\r\n",
       "else {\r\n",
       "    renderPlotly();\r\n",
       "}\r\n",
       "</script>"
      ]
     },
     "metadata": {},
     "output_type": "display_data"
    }
   ],
   "source": [
    "string[] metricNames = \n",
    "    { \n",
    "        \"Log Loss\", \n",
    "        \"Log Loss Reduction\", \n",
    "        \"Entropy\", \n",
    "        \"Area Under Curve\", \n",
    "        \"Accuracy\",\n",
    "        \"Positive Recall\", \n",
    "        \"Negative Recall\",\n",
    "        \"F1 Score\"\n",
    "    };\n",
    "\n",
    "double[] metricValues = \n",
    "    { \n",
    "        qualityMetrics.LogLoss, \n",
    "        qualityMetrics.LogLossReduction, \n",
    "        qualityMetrics.Entropy, \n",
    "        qualityMetrics.AreaUnderRocCurve, \n",
    "        qualityMetrics.Accuracy,\n",
    "        qualityMetrics.PositiveRecall, \n",
    "        qualityMetrics.NegativeRecall,\n",
    "        qualityMetrics.F1Score\n",
    "    };\n",
    "\n",
    "var graph = new Graph.Bar()\n",
    "{\n",
    "    x = metricValues,\n",
    "    y = metricNames,\n",
    "    orientation = \"h\",\n",
    "    marker = new Graph.Marker { color = \"darkred\" }\n",
    "};\n",
    "\n",
    "var chart = Chart.Plot(graph);\n",
    "\n",
    "var layout = new Layout.Layout(){ title=\"Quality Metrics\" };\n",
    "chart.WithLayout(layout);\n",
    "\n",
    "display(chart);"
   ]
  },
  {
   "cell_type": "markdown",
   "metadata": {},
   "source": [
    "### Drawing the Confusion Matrix"
   ]
  },
  {
   "cell_type": "code",
   "execution_count": 74,
   "metadata": {},
   "outputs": [
    {
     "data": {
      "text/html": [
       "<table><tbody><tr style=\"background-color: transparent\"><td colspan=\"2\" rowspan=\"2\" style=\"text-align: center; background-color: transparent\">n = 3917</td><td colspan=\"2\" style=\"border: 1px solid black; text-align: center; padding: 24px\"><b>Predicted</b></td></tr><tr style=\"background-color: transparent\"><td style=\"border: 1px solid black; padding: 24px\"><b>True</b></td><td style=\"border: 1px solid black; padding: 24px\"><b>False</b></td></tr><tr style=\"background-color: transparent\"><td rowspan=\"2\" style=\"border: 1px solid black; text-align: center; padding: 24px\"><b>Actual</b></td><td style=\"border: 1px solid black; text-align: center; padding: 24px\"><b>True</b></td><td style=\"border: 1px solid black; padding: 24px\">2237</td><td style=\"border: 1px solid black; padding: 24px\">333</td></tr><tr><td style=\"border: 1px solid black; text-align: center; padding: 24px\"><b>False</b></td><td style=\"border: 1px solid black; padding: 24px\">689</td><td style=\"border: 1px solid black; padding: 24px\">658</td></tr></tbody></table>"
      ]
     },
     "metadata": {},
     "output_type": "display_data"
    }
   ],
   "source": [
    "var qm = qualityMetrics.ConfusionMatrix;\n",
    "display(qm);"
   ]
  },
  {
   "cell_type": "code",
   "execution_count": 72,
   "metadata": {},
   "outputs": [
    {
     "data": {
      "text/html": [
       "<table><tbody><tr style=\"background-color: transparent\"><td colspan=\"2\" rowspan=\"2\" style=\"text-align: center; background-color: transparent\">n = 3917</td><td colspan=\"2\" style=\"border: 1px solid black; text-align: center; padding: 24px\"><b>Predicted</b></td></tr><tr style=\"background-color: transparent\"><td style=\"border: 1px solid black; padding: 24px\"><b>True</b></td><td style=\"border: 1px solid black; padding: 24px\"><b>False</b></td></tr><tr style=\"background-color: transparent\"><td rowspan=\"2\" style=\"border: 1px solid black; text-align: center; padding: 24px\"><b>Actual</b></td><td style=\"border: 1px solid black; text-align: center; padding: 24px\"><b>True</b></td><td style=\"border: 1px solid black; padding: 24px\">2237</td><td style=\"border: 1px solid black; padding: 24px\">333</td></tr><tr><td style=\"border: 1px solid black; text-align: center; padding: 24px\"><b>False</b></td><td style=\"border: 1px solid black; padding: 24px\">689</td><td style=\"border: 1px solid black; padding: 24px\">658</td></tr></tbody></table>"
      ]
     },
     "metadata": {},
     "output_type": "display_data"
    }
   ],
   "source": [
    "Formatter<ConfusionMatrix>.Register((df, writer) =>\n",
    "{\n",
    "    var rows = new List<IHtmlContent>();\n",
    "\n",
    "    var cells = new List<IHtmlContent>();\n",
    "    var n = df.Counts[0][0] + df.Counts[0][1] + df.Counts[1][0] + df.Counts[1][1];\n",
    "    cells.Add(td[rowspan: 2, colspan: 2, style: \"text-align: center; background-color: transparent\"](\"n = \" + n));\n",
    "    cells.Add(td[colspan: 2, style: \"border: 1px solid black; text-align: center; padding: 24px\"](b(\"Predicted\")));\n",
    "    rows.Add(tr[style: \"background-color: transparent\"](cells));\n",
    "    \n",
    "    cells = new List<IHtmlContent>();\n",
    "    cells.Add(td[style:\"border: 1px solid black; padding: 24px\"](b(\"True\")));\n",
    "    cells.Add(td[style:\"border: 1px solid black; padding: 24px\"](b(\"False\")));\n",
    "    rows.Add(tr[style: \"background-color: transparent\"](cells));\n",
    "    \n",
    "    cells = new List<IHtmlContent>();\n",
    "    cells.Add(td[rowspan: 2, style:\"border: 1px solid black; text-align: center; padding: 24px\"](b(\"Actual\")));\n",
    "    cells.Add(td[style:\"border: 1px solid black; text-align: center; padding: 24px\"](b(\"True\")));    \n",
    "    cells.Add(td[style:\"border: 1px solid black; padding: 24px\"](df.Counts[0][0]));\n",
    "    cells.Add(td[style:\"border: 1px solid black; padding: 24px\"](df.Counts[0][1]));\n",
    "    rows.Add(tr[style: \"background-color: transparent\"](cells));\n",
    "    \n",
    "    cells = new List<IHtmlContent>();\n",
    "    cells.Add(td[style:\"border: 1px solid black; text-align: center; padding: 24px\"](b(\"False\")));\n",
    "    cells.Add(td[style:\"border: 1px solid black; padding: 24px\"](df.Counts[1][0]));\n",
    "    cells.Add(td[style:\"border: 1px solid black; padding: 24px\"](df.Counts[1][1]));\n",
    "    rows.Add(tr(cells));\n",
    "\n",
    "    var t = table(\n",
    "        tbody(\n",
    "            rows));\n",
    "\n",
    "    writer.Write(t);\n",
    "}, \"text/html\");\n",
    "\n",
    "display(qualityMetrics.ConfusionMatrix);"
   ]
  },
  {
   "cell_type": "code",
   "execution_count": null,
   "metadata": {},
   "outputs": [],
   "source": []
  },
  {
   "cell_type": "markdown",
   "metadata": {},
   "source": [
    "### Create a prediction engine and use it on a random sample"
   ]
  },
  {
   "cell_type": "code",
   "execution_count": 14,
   "metadata": {
    "scrolled": true
   },
   "outputs": [
    {
     "data": {
      "text/html": [
       "<table><thead><tr><th>Label</th><th>FixedAcidity</th><th>VolatileAcidity</th><th>CitricAcid</th><th>ResidualSugar</th><th>Chlorides</th><th>FreeSulfurDioxide</th><th>TotalSulfurDioxide</th><th>Density</th><th>Ph</th><th>Sulphates</th><th>Alcohol</th><th>Quality</th></tr></thead><tbody><tr><td>True</td><td>6.8</td><td>0.25</td><td>0.38</td><td>8.1</td><td>0.046</td><td>24</td><td>155</td><td>0.9956</td><td>3.33</td><td>0.59</td><td>10.2</td><td>6</td></tr></tbody></table>"
      ]
     },
     "metadata": {},
     "output_type": "display_data"
    },
    {
     "data": {
      "text/html": [
       "<table><thead><tr><th>LabelAsNumber</th><th>Label</th><th>PredictedLabel</th></tr></thead><tbody><tr><td>1</td><td>True</td><td>True</td></tr></tbody></table>"
      ]
     },
     "metadata": {},
     "output_type": "display_data"
    }
   ],
   "source": [
    "// Create prediction engine\n",
    "var predictionEngine = mlContext.Model.CreatePredictionEngine<RichBinaryClassificationData, BinaryClassificationPrediction>(model);\n",
    "\n",
    "// Get a random data sample\n",
    "var shuffledData = mlContext.Data.ShuffleRows(trainingData);\n",
    "var rawSample = mlContext.Data.TakeRows(shuffledData, 1);\n",
    "var sample = mlContext.Data.CreateEnumerable<RichBinaryClassificationData>(rawSample, false).First();\n",
    "display(sample);\n",
    "\n",
    "// Predict quality of sample\n",
    "var prediction = predictionEngine.Predict(sample);\n",
    "display(prediction);"
   ]
  }
 ],
 "metadata": {
  "kernelspec": {
   "display_name": ".NET (C#)",
   "language": "C#",
   "name": ".net-csharp"
  },
  "language_info": {
   "file_extension": ".cs",
   "mimetype": "text/x-csharp",
   "name": "C#",
   "pygments_lexer": "csharp",
   "version": "8.0"
  }
 },
 "nbformat": 4,
 "nbformat_minor": 2
}
