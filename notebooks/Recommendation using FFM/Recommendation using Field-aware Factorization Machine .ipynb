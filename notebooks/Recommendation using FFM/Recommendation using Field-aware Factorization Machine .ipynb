{
 "cells": [
  {
   "cell_type": "markdown",
   "metadata": {},
   "source": [
    "## Recommendation using FFM"
   ]
  },
  {
   "cell_type": "markdown",
   "metadata": {},
   "source": [
    "Uses a Field-Aware Factorization Machine to recommend hotels on the Las Vegas Strip for the selected traveler type and season, based on 2015 TripAdvisor ratings."
   ]
  },
  {
   "cell_type": "markdown",
   "metadata": {},
   "source": [
    "### NuGet Packages"
   ]
  },
  {
   "cell_type": "code",
   "execution_count": 1,
   "metadata": {},
   "outputs": [
    {
     "data": {
      "text/html": [
       "Installing package Microsoft.ML, version 1.4.0.........................done!"
      ]
     },
     "metadata": {},
     "output_type": "display_data"
    },
    {
     "data": {
      "text/html": [
       "Successfully added reference to package Microsoft.ML, version 1.4.0"
      ]
     },
     "metadata": {},
     "output_type": "display_data"
    },
    {
     "data": {
      "text/html": [
       "Installing package Microsoft.ML.Recommender, version 0.16.0.......done!"
      ]
     },
     "metadata": {},
     "output_type": "display_data"
    },
    {
     "data": {
      "text/html": [
       "Successfully added reference to package Microsoft.ML.Recommender, version 0.16.0"
      ]
     },
     "metadata": {},
     "output_type": "display_data"
    },
    {
     "data": {
      "text/html": [
       "Installing package XPlot.Plotly, version 3.0.1.......done!"
      ]
     },
     "metadata": {},
     "output_type": "display_data"
    },
    {
     "data": {
      "text/html": [
       "Successfully added reference to package XPlot.Plotly, version 3.0.1"
      ]
     },
     "metadata": {},
     "output_type": "display_data"
    }
   ],
   "source": [
    "#r \"nuget:Microsoft.ML, 1.4.0\"\n",
    "#r \"nuget:Microsoft.ML.Recommender, 0.16.0\"\n",
    "#r \"nuget:XPlot.Plotly, 3.0.1\""
   ]
  },
  {
   "cell_type": "markdown",
   "metadata": {},
   "source": [
    "### Namespaces"
   ]
  },
  {
   "cell_type": "code",
   "execution_count": 3,
   "metadata": {},
   "outputs": [],
   "source": [
    "using Microsoft.ML;\n",
    "using Microsoft.ML.Data;\n",
    "using Microsoft.ML.Trainers;\n",
    "using XPlot.Plotly;\n",
    "using System.IO;\n",
    "using System.Linq;"
   ]
  },
  {
   "cell_type": "markdown",
   "metadata": {},
   "source": [
    "### Input class definition"
   ]
  },
  {
   "cell_type": "code",
   "execution_count": 4,
   "metadata": {},
   "outputs": [],
   "source": [
    "public class FfmRecommendationData\n",
    "{\n",
    "    public bool Label;\n",
    "\n",
    "    public string TravelerType;\n",
    "\n",
    "    public string Season;\n",
    "\n",
    "    public string Hotel;\n",
    "}"
   ]
  },
  {
   "cell_type": "markdown",
   "metadata": {},
   "source": [
    "### Output class definition"
   ]
  },
  {
   "cell_type": "code",
   "execution_count": 5,
   "metadata": {},
   "outputs": [],
   "source": [
    "public class FfmRecommendationPrediction\n",
    "{\n",
    "    public bool PredictedLabel;\n",
    "\n",
    "    public float Probability;\n",
    "\n",
    "    public string TravelerType;\n",
    "\n",
    "    public string Season;\n",
    "\n",
    "    public string Hotel;\n",
    "}"
   ]
  },
  {
   "cell_type": "markdown",
   "metadata": {},
   "source": [
    "### Read the raw data"
   ]
  },
  {
   "cell_type": "code",
   "execution_count": 8,
   "metadata": {},
   "outputs": [],
   "source": [
    "var mlContext = new MLContext(seed: null);\n",
    "\n",
    "var ratingTreshold = 3;\n",
    "\n",
    "// Populating an IDataView from an IEnumerable.\n",
    "var data = File.ReadAllLines(\"./LasVegasTripAdvisorReviews.csv\")\n",
    "    .Skip(1)\n",
    "    .Select(x => x.Split(';'))\n",
    "    .Select(x => new FfmRecommendationData\n",
    "    {\n",
    "        Label = double.Parse(x[4]) > ratingTreshold,\n",
    "        Season = x[5],\n",
    "        TravelerType = x[6],\n",
    "        Hotel = x[13]\n",
    "    });\n",
    "\n",
    "var allData = mlContext.Data.LoadFromEnumerable(data);\n",
    "\n",
    "// return _mlContext.Data.CreateEnumerable<FfmRecommendationData>(_allData, reuseRowObject: false);\n"
   ]
  },
  {
   "cell_type": "markdown",
   "metadata": {},
   "source": [
    "### Prepare the data"
   ]
  },
  {
   "cell_type": "code",
   "execution_count": 9,
   "metadata": {},
   "outputs": [],
   "source": [
    "var pipeline = mlContext.Transforms.Categorical.OneHotEncoding(\"TravelerTypeOneHot\", \"TravelerType\")\n",
    "    .Append(mlContext.Transforms.Categorical.OneHotEncoding(\"SeasonOneHot\", \"Season\"))\n",
    "    .Append(mlContext.Transforms.Categorical.OneHotEncoding(\"HotelOneHot\", \"Hotel\"))\n",
    "    .Append(mlContext.Transforms.Concatenate(\"Features\", \"TravelerTypeOneHot\", \"SeasonOneHot\", \"HotelOneHot\"))\n",
    "    .Append(mlContext.BinaryClassification.Trainers.FieldAwareFactorizationMachine(new string[] { \"Features\" }));"
   ]
  },
  {
   "cell_type": "markdown",
   "metadata": {},
   "source": [
    "### Train the model"
   ]
  },
  {
   "cell_type": "code",
   "execution_count": 10,
   "metadata": {},
   "outputs": [],
   "source": [
    "var trainingData = mlContext.Data.ShuffleRows(allData);\n",
    "trainingData = mlContext.Data.TakeRows(trainingData, 450);\n",
    "\n",
    "var model = pipeline.Fit(trainingData);"
   ]
  },
  {
   "cell_type": "markdown",
   "metadata": {},
   "source": [
    "### Evaluate the model"
   ]
  },
  {
   "cell_type": "code",
   "execution_count": 11,
   "metadata": {},
   "outputs": [
    {
     "data": {
      "text/html": [
       "<table><thead><tr><th>LogLoss</th><th>LogLossReduction</th><th>Entropy</th><th>AreaUnderRocCurve</th><th>Accuracy</th><th>PositivePrecision</th><th>PositiveRecall</th><th>NegativePrecision</th><th>NegativeRecall</th><th>F1Score</th><th>AreaUnderPrecisionRecallCurve</th><th>ConfusionMatrix</th></tr></thead><tbody><tr><td>0.6078563394217641</td><td>0.13345535180808038</td><td>0.7014714598838974</td><td>0.7605588044184536</td><td>0.81</td><td>0.81</td><td>1</td><td>0</td><td>0</td><td>0.8950276243093923</td><td>0.9338675518491129</td><td>{ Microsoft.ML.Data.ConfusionMatrix: PerClassPrecision: [ 0.81, 0 ], PerClassRecall: [ 1, 0 ], Counts: [ [ 81, 0 ], [ 19, 0 ] ], NumberOfClasses: 2 }</td></tr></tbody></table>"
      ]
     },
     "metadata": {},
     "output_type": "display_data"
    }
   ],
   "source": [
    "var testData = mlContext.Data.ShuffleRows(allData);\n",
    "testData = mlContext.Data.TakeRows(testData, 100);\n",
    "\n",
    "var scoredData = model.Transform(testData);\n",
    "var metrics = mlContext.BinaryClassification.Evaluate(\n",
    "    data: scoredData,\n",
    "    labelColumnName: \"Label\",\n",
    "    scoreColumnName: \"Probability\",\n",
    "    predictedLabelColumnName: \"PredictedLabel\");\n",
    "    \n",
    "display(metrics);"
   ]
  },
  {
   "cell_type": "markdown",
   "metadata": {},
   "source": [
    "### Values"
   ]
  },
  {
   "cell_type": "code",
   "execution_count": 13,
   "metadata": {},
   "outputs": [
    {
     "data": {
      "text/html": [
       "<table><thead><tr><th><i>index</i></th><th>value</th></tr></thead><tbody><tr><td>0</td><td>Bellagio Las Vegas</td></tr><tr><td>1</td><td>Caesars Palace</td></tr><tr><td>2</td><td>Circus Circus Hotel &amp; Casino Las Vegas</td></tr><tr><td>3</td><td>Encore at wynn Las Vegas</td></tr><tr><td>4</td><td>Excalibur Hotel &amp; Casino</td></tr><tr><td>5</td><td>Hilton Grand Vacations at the Flamingo</td></tr><tr><td>6</td><td>Hilton Grand Vacations on the Boulevard</td></tr><tr><td>7</td><td>Marriott&#39;s Grand Chateau</td></tr><tr><td>8</td><td>Monte Carlo Resort&amp;Casino</td></tr><tr><td>9</td><td>Paris Las Vegas</td></tr><tr><td>10</td><td>The Cosmopolitan Las Vegas</td></tr><tr><td>11</td><td>The Cromwell</td></tr><tr><td>12</td><td>The Palazzo Resort Hotel Casino</td></tr><tr><td>13</td><td>The Venetian Las Vegas Hotel</td></tr><tr><td>14</td><td>The Westin las Vegas Hotel Casino &amp; Spa</td></tr><tr><td>15</td><td>Treasure Island- TI Hotel &amp; Casino</td></tr><tr><td>16</td><td>Tropicana Las Vegas - A Double Tree by Hilton Hotel</td></tr><tr><td>17</td><td>Trump International Hotel Las Vegas</td></tr><tr><td>18</td><td>Tuscany Las Vegas Suites &amp; Casino</td></tr><tr><td>19</td><td>Wyndham Grand Desert</td></tr><tr><td>20</td><td>Wynn Las Vegas</td></tr></tbody></table>"
      ]
     },
     "metadata": {},
     "output_type": "display_data"
    },
    {
     "data": {
      "text/html": [
       "<table><thead><tr><th><i>index</i></th><th>value</th></tr></thead><tbody><tr><td>0</td><td>Business</td></tr><tr><td>1</td><td>Couples</td></tr><tr><td>2</td><td>Families</td></tr><tr><td>3</td><td>Friends</td></tr><tr><td>4</td><td>Solo</td></tr></tbody></table>"
      ]
     },
     "metadata": {},
     "output_type": "display_data"
    },
    {
     "data": {
      "text/html": [
       "<table><thead><tr><th><i>index</i></th><th>value</th></tr></thead><tbody><tr><td>0</td><td>Dec-Feb</td></tr><tr><td>1</td><td>Jun-Aug</td></tr><tr><td>2</td><td>Mar-May</td></tr><tr><td>3</td><td>Sep-Nov</td></tr></tbody></table>"
      ]
     },
     "metadata": {},
     "output_type": "display_data"
    }
   ],
   "source": [
    "var hotels = data.Select(r => r.Hotel).Distinct().ToList();\n",
    "hotels.Sort();\n",
    "display (hotels);\n",
    "\n",
    "var travelerTypes = data.Select(r => r.TravelerType).Distinct().ToList();\n",
    "travelerTypes.Sort();\n",
    "display (travelerTypes);\n",
    "\n",
    "var seasons = data.Select(r => r.Season).Distinct().ToList();\n",
    "seasons.Sort();\n",
    "display (seasons);"
   ]
  },
  {
   "cell_type": "markdown",
   "metadata": {},
   "source": [
    "### Single predicition"
   ]
  },
  {
   "cell_type": "code",
   "execution_count": 19,
   "metadata": {},
   "outputs": [
    {
     "data": {
      "text/html": [
       "<table><thead><tr><th>PredictedLabel</th><th>Probability</th><th>TravelerType</th><th>Season</th><th>Hotel</th></tr></thead><tbody><tr><td>True</td><td>0.73002464</td><td>Couples</td><td>Mar-May</td><td>Paris Las Vegas</td></tr></tbody></table>"
      ]
     },
     "metadata": {},
     "output_type": "display_data"
    }
   ],
   "source": [
    "var predictionEngine = mlContext.Model.CreatePredictionEngine<FfmRecommendationData, FfmRecommendationPrediction>(model);\n",
    "var prediction = predictionEngine.Predict(new FfmRecommendationData\n",
    "    { \n",
    "        TravelerType = \"Couples\",\n",
    "        Hotel = \"Paris Las Vegas\",\n",
    "        Season = \"Mar-May\"\n",
    "    });\n",
    "\n",
    "display(prediction);"
   ]
  },
  {
   "cell_type": "markdown",
   "metadata": {},
   "source": [
    "### Bulk prediction"
   ]
  },
  {
   "cell_type": "code",
   "execution_count": 28,
   "metadata": {},
   "outputs": [
    {
     "data": {
      "text/html": [
       "<table><thead><tr><th><i>index</i></th><th>PredictedLabel</th><th>Probability</th><th>TravelerType</th><th>Season</th><th>Hotel</th></tr></thead><tbody><tr><td>0</td><td>True</td><td>0.9604928</td><td>Friends</td><td>Jun-Aug</td><td>Marriott&#39;s Grand Chateau</td></tr><tr><td>1</td><td>True</td><td>0.9533174</td><td>Friends</td><td>Jun-Aug</td><td>Encore at wynn Las Vegas</td></tr><tr><td>2</td><td>True</td><td>0.95096093</td><td>Friends</td><td>Jun-Aug</td><td>The Venetian Las Vegas Hotel</td></tr><tr><td>3</td><td>True</td><td>0.94756126</td><td>Friends</td><td>Jun-Aug</td><td>Wynn Las Vegas</td></tr><tr><td>4</td><td>True</td><td>0.93594223</td><td>Friends</td><td>Jun-Aug</td><td>Wyndham Grand Desert</td></tr><tr><td>5</td><td>True</td><td>0.9153716</td><td>Friends</td><td>Jun-Aug</td><td>Trump International Hotel Las Vegas</td></tr><tr><td>6</td><td>True</td><td>0.9151229</td><td>Friends</td><td>Jun-Aug</td><td>The Cosmopolitan Las Vegas</td></tr><tr><td>7</td><td>True</td><td>0.908976</td><td>Friends</td><td>Jun-Aug</td><td>Hilton Grand Vacations on the Boulevard</td></tr><tr><td>8</td><td>True</td><td>0.9076306</td><td>Friends</td><td>Jun-Aug</td><td>Bellagio Las Vegas</td></tr><tr><td>9</td><td>True</td><td>0.8987</td><td>Friends</td><td>Jun-Aug</td><td>Treasure Island- TI Hotel &amp; Casino</td></tr><tr><td>10</td><td>True</td><td>0.8917039</td><td>Friends</td><td>Jun-Aug</td><td>Caesars Palace</td></tr><tr><td>11</td><td>True</td><td>0.88578993</td><td>Friends</td><td>Jun-Aug</td><td>The Palazzo Resort Hotel Casino</td></tr><tr><td>12</td><td>True</td><td>0.8623856</td><td>Friends</td><td>Jun-Aug</td><td>Tropicana Las Vegas - A Double Tree by Hilton Hotel</td></tr><tr><td>13</td><td>True</td><td>0.8510842</td><td>Friends</td><td>Jun-Aug</td><td>The Cromwell</td></tr><tr><td>14</td><td>True</td><td>0.8460915</td><td>Friends</td><td>Jun-Aug</td><td>Tuscany Las Vegas Suites &amp; Casino</td></tr><tr><td>15</td><td>True</td><td>0.83785874</td><td>Friends</td><td>Jun-Aug</td><td>Hilton Grand Vacations at the Flamingo</td></tr><tr><td>16</td><td>True</td><td>0.83683616</td><td>Friends</td><td>Jun-Aug</td><td>Paris Las Vegas</td></tr><tr><td>17</td><td>True</td><td>0.8308777</td><td>Friends</td><td>Jun-Aug</td><td>The Westin las Vegas Hotel Casino &amp; Spa</td></tr><tr><td>18</td><td>True</td><td>0.7071454</td><td>Friends</td><td>Jun-Aug</td><td>Excalibur Hotel &amp; Casino</td></tr><tr><td>19</td><td>True</td><td>0.6925527</td><td>Friends</td><td>Jun-Aug</td><td>Monte Carlo Resort&amp;Casino</td></tr><tr><td>20</td><td>True</td><td>0.58883774</td><td>Friends</td><td>Jun-Aug</td><td>Circus Circus Hotel &amp; Casino Las Vegas</td></tr></tbody></table>"
      ]
     },
     "metadata": {},
     "output_type": "display_data"
    }
   ],
   "source": [
    "var input = hotels.Select(h => new FfmRecommendationData\n",
    "               {\n",
    "                   TravelerType = \"Friends\",\n",
    "                   Season = \"Jun-Aug\",\n",
    "                   Hotel = h\n",
    "               }).ToList();\n",
    "var predictions = model.Transform(mlContext.Data.LoadFromEnumerable(input));\n",
    "var result = mlContext.Data.CreateEnumerable<FfmRecommendationPrediction>(predictions, reuseRowObject: false);\n",
    "result = result.Where(r => r.PredictedLabel == true).OrderByDescending(r => r.Probability);\n",
    "\n",
    "display(result);"
   ]
  },
  {
   "cell_type": "markdown",
   "metadata": {},
   "source": [
    "### Visualization"
   ]
  },
  {
   "cell_type": "code",
   "execution_count": 24,
   "metadata": {},
   "outputs": [
    {
     "data": {
      "text/html": [
       "<div id=\"2d414f18-6c90-4a74-b58e-521310d23223\" style=\"width: 900px; height: 500px;\"></div><script type=\"text/javascript\">\r\n",
       "\r\n",
       "var renderPlotly = function() {\r\n",
       "    var xplotRequire = requirejs.config({context:'xplot-2.0.0',paths:{plotly:'https://cdn.plot.ly/plotly-1.49.2.min'}});\r\n",
       "    xplotRequire(['plotly'], function(Plotly) {\r\n",
       "\n",
       "            var data = [{\"type\":\"bar\",\"x\":[\"Marriott's Grand Chateau\",\"Encore at wynn Las Vegas\",\"The Venetian Las Vegas Hotel\",\"Wynn Las Vegas\",\"Wyndham Grand Desert\",\"Trump International Hotel Las Vegas\",\"The Cosmopolitan Las Vegas\",\"Hilton Grand Vacations on the Boulevard\",\"Bellagio Las Vegas\",\"Treasure Island- TI Hotel & Casino\",\"Caesars Palace\",\"The Palazzo Resort Hotel Casino\",\"Tropicana Las Vegas - A Double Tree by Hilton Hotel\",\"The Cromwell\",\"Tuscany Las Vegas Suites & Casino\",\"Hilton Grand Vacations at the Flamingo\",\"Paris Las Vegas\",\"The Westin las Vegas Hotel Casino & Spa\",\"Excalibur Hotel & Casino\",\"Monte Carlo Resort&Casino\",\"Circus Circus Hotel & Casino Las Vegas\"],\"y\":[0.9604928,0.9533174,0.95096093,0.94756126,0.93594223,0.9153716,0.9151229,0.908976,0.9076306,0.8987,0.8917039,0.88578993,0.8623856,0.8510842,0.8460915,0.83785874,0.83683616,0.8308777,0.7071454,0.6925527,0.58883774],\"marker\":{\"color\":\"darkred\"}}];\n",
       "            var layout = {\"title\":\"Recommended Hotels for Friends in Summer\"};\n",
       "            Plotly.newPlot('2d414f18-6c90-4a74-b58e-521310d23223', data, layout);\n",
       "        });\r\n",
       "};\r\n",
       "if ((typeof(requirejs) !==  typeof(Function)) || (typeof(requirejs.config) !== typeof(Function))) { \r\n",
       "    var script = document.createElement(\"script\"); \r\n",
       "    script.setAttribute(\"src\", \"https://cdnjs.cloudflare.com/ajax/libs/require.js/2.3.6/require.min.js\"); \r\n",
       "    script.onload = function(){\r\n",
       "        renderPlotly();\r\n",
       "    };\r\n",
       "    document.getElementsByTagName(\"head\")[0].appendChild(script); \r\n",
       "}\r\n",
       "else {\r\n",
       "    renderPlotly();\r\n",
       "}\r\n",
       "</script>"
      ]
     },
     "metadata": {},
     "output_type": "display_data"
    }
   ],
   "source": [
    "var graph = new Graph.Bar()\n",
    "{\n",
    "    y = result.Select(r => r.Probability),\n",
    "    x = result.Select(r => r.Hotel),\n",
    "    marker = new Graph.Marker { color = \"darkred\" }\n",
    "};\n",
    "\n",
    "var chart = Chart.Plot(graph);\n",
    "\n",
    "var layout = new Layout.Layout(){ title=\"Recommended Hotels for Friends in Summer\" };\n",
    "chart.WithLayout(layout);\n",
    "\n",
    "display(chart);"
   ]
  },
  {
   "cell_type": "code",
   "execution_count": null,
   "metadata": {},
   "outputs": [],
   "source": []
  }
 ],
 "metadata": {
  "kernelspec": {
   "display_name": ".NET (C#)",
   "language": "C#",
   "name": ".net-csharp"
  },
  "language_info": {
   "file_extension": ".cs",
   "mimetype": "text/x-csharp",
   "name": "C#",
   "pygments_lexer": "csharp",
   "version": "8.0"
  }
 },
 "nbformat": 4,
 "nbformat_minor": 2
}
