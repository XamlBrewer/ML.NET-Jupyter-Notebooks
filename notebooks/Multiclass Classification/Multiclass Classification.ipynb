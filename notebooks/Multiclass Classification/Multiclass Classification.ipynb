{
 "cells": [
  {
   "cell_type": "markdown",
   "metadata": {},
   "source": [
    "### ML.NET Multiclass Classification\n",
    "\n",
    "Recognizes whether a piece of text is written in German, English, Italian, Romanian, French or Spanish."
   ]
  },
  {
   "cell_type": "markdown",
   "metadata": {},
   "source": [
    "### NuGet package installation"
   ]
  },
  {
   "cell_type": "code",
   "execution_count": 1,
   "metadata": {},
   "outputs": [
    {
     "data": {
      "text/html": [
       "Installing package Microsoft.ML..................done!"
      ]
     },
     "metadata": {},
     "output_type": "display_data"
    },
    {
     "data": {
      "text/html": [
       "Successfully added reference to package Microsoft.ML, version 1.4.0"
      ]
     },
     "metadata": {},
     "output_type": "display_data"
    },
    {
     "data": {
      "text/html": [
       "Installing package XPlot.Plotly.........done!"
      ]
     },
     "metadata": {},
     "output_type": "display_data"
    },
    {
     "data": {
      "text/html": [
       "Successfully added reference to package XPlot.Plotly, version 3.0.1"
      ]
     },
     "metadata": {},
     "output_type": "display_data"
    }
   ],
   "source": [
    "#r \"nuget:Microsoft.ML, 1.4.0\"\n",
    "#r \"nuget:XPlot.Plotly, 3.0.1\""
   ]
  },
  {
   "cell_type": "markdown",
   "metadata": {},
   "source": [
    "### Namespaces"
   ]
  },
  {
   "cell_type": "code",
   "execution_count": 2,
   "metadata": {},
   "outputs": [],
   "source": [
    "using Microsoft.ML;\n",
    "using Microsoft.ML.Data;\n",
    "using Microsoft.ML.Trainers;\n",
    "using XPlot.Plotly;"
   ]
  },
  {
   "cell_type": "markdown",
   "metadata": {},
   "source": [
    "### Input class definition"
   ]
  },
  {
   "cell_type": "code",
   "execution_count": 3,
   "metadata": {},
   "outputs": [],
   "source": [
    "public class MulticlassClassificationData\n",
    "{\n",
    "    [LoadColumn(0), ColumnName(\"Label\")]\n",
    "    public float LanguageClass;\n",
    "\n",
    "    [LoadColumn(1)]\n",
    "    public string Text;\n",
    "\n",
    "    public MulticlassClassificationData(string text)\n",
    "    {\n",
    "        Text = text;\n",
    "    }\n",
    "}"
   ]
  },
  {
   "cell_type": "markdown",
   "metadata": {},
   "source": [
    "### Output class definition"
   ]
  },
  {
   "cell_type": "code",
   "execution_count": 4,
   "metadata": {},
   "outputs": [],
   "source": [
    "public class MulticlassClassificationPrediction\n",
    "{\n",
    "    private readonly string[] classNames = { \"German\", \"English\", \"French\", \"Italian\", \"Romanian\", \"Spanish\" };\n",
    "\n",
    "    public string Text;\n",
    "\n",
    "    [ColumnName(\"PredictedLabel\")]\n",
    "    public float Class;\n",
    "\n",
    "    [ColumnName(\"Score\")]\n",
    "    public float[] Confidences;\n",
    "\n",
    "    public string PredictedLanguage => classNames[(int)Class];\n",
    "\n",
    "    public int Confidence => (int)(Confidences[(int)Class] * 100);\n",
    "}"
   ]
  },
  {
   "cell_type": "markdown",
   "metadata": {},
   "source": [
    "### Read the raw data"
   ]
  },
  {
   "cell_type": "code",
   "execution_count": 5,
   "metadata": {},
   "outputs": [],
   "source": [
    "var mlContext = new MLContext(seed: null);\n",
    "\n",
    "var trainingData = mlContext.Data.LoadFromTextFile<MulticlassClassificationData>(\"./Sentences_Training.tsv\");"
   ]
  },
  {
   "cell_type": "markdown",
   "metadata": {},
   "source": [
    "### Prepare the data"
   ]
  },
  {
   "cell_type": "code",
   "execution_count": 6,
   "metadata": {},
   "outputs": [],
   "source": [
    "var pipeline = mlContext.Transforms.Conversion.MapValueToKey(\"Label\")\n",
    "    .Append(mlContext.Transforms.Text.FeaturizeText(\"Features\", \"Text\"))\n",
    "    .Append(mlContext.MulticlassClassification.Trainers.LbfgsMaximumEntropy())\n",
    "    .Append(mlContext.Transforms.Conversion.MapKeyToValue(\"PredictedLabel\"));"
   ]
  },
  {
   "cell_type": "markdown",
   "metadata": {},
   "source": [
    "### Train the model"
   ]
  },
  {
   "cell_type": "code",
   "execution_count": 7,
   "metadata": {},
   "outputs": [],
   "source": [
    "var model = pipeline.Fit(trainingData);"
   ]
  },
  {
   "cell_type": "markdown",
   "metadata": {},
   "source": [
    "### Evaluate the model"
   ]
  },
  {
   "cell_type": "code",
   "execution_count": 8,
   "metadata": {},
   "outputs": [
    {
     "data": {
      "text/html": [
       "<table><thead><tr><th>LogLoss</th><th>LogLossReduction</th><th>MacroAccuracy</th><th>MicroAccuracy</th><th>TopKAccuracy</th><th>TopKPredictionCount</th><th>PerClassLogLoss</th><th>ConfusionMatrix</th></tr></thead><tbody><tr><td>0.10613672797362055</td><td>0.9407638929921479</td><td>0.9824893988572754</td><td>0.9824865730393302</td><td>0</td><td>0</td><td>[ 0.17754890146426386, 0.05881043090926731, 0.07523981505497156, 0.1630929051034134, 0.09504758946231957, 0.06692201731154722 ]</td><td>{ Microsoft.ML.Data.ConfusionMatrix: PerClassPrecision: [ 0.9950525664811379, 0.9913896676011213, 0.9905069682892345, 0.9410080183276059, 0.9838, 0.9957515678737608 ], PerClassRecall: [ 0.9654, 0.99000199960008, 0.9861250754071988, 0.9856028794241152, 0.9836032793441312, 0.9842031593681264 ], Counts: [ [ 4827, 34, 15, 111, 12, 1 ], [ 9, 4951, 5, 32, 2, 2 ], [ 7, 7, 4904, 32, 13, 10 ], [ 4, 0, 16, 4929, 46, 6 ], [ 1, 1, 4, 74, 4919, 2 ], [ 3, 1, 7, 60, 8, 4922 ] ], NumberOfClasses: 6 }</td></tr></tbody></table>"
      ]
     },
     "metadata": {},
     "output_type": "display_data"
    }
   ],
   "source": [
    "var testData = mlContext.Data.LoadFromTextFile<MulticlassClassificationData>(\"./Sentences_Test.tsv\");\n",
    "var scoredData = model.Transform(testData);\n",
    "var qualityMetrics = mlContext.MulticlassClassification.Evaluate(scoredData);\n",
    "display(qualityMetrics);"
   ]
  },
  {
   "cell_type": "markdown",
   "metadata": {},
   "source": [
    "### Visualize logarithmic loss per class"
   ]
  },
  {
   "cell_type": "code",
   "execution_count": 12,
   "metadata": {},
   "outputs": [
    {
     "data": {
      "text/html": [
       "<div id=\"94e7b542-41a6-4384-a96d-2df63352811d\" style=\"width: 900px; height: 500px;\"></div><script type=\"text/javascript\">\r\n",
       "\r\n",
       "var renderPlotly = function() {\r\n",
       "    var xplotRequire = requirejs.config({context:'xplot-2.0.0',paths:{plotly:'https://cdn.plot.ly/plotly-1.49.2.min'}});\r\n",
       "    xplotRequire(['plotly'], function(Plotly) {\r\n",
       "\n",
       "            var data = [{\"type\":\"bar\",\"x\":[\"German\",\"English\",\"French\",\"Italian\",\"Romanian\",\"Spanish\"],\"y\":[0.17754890146426386,0.05881043090926731,0.07523981505497156,0.1630929051034134,0.09504758946231957,0.06692201731154722]}];\n",
       "            var layout = {\"title\":\"Logarithmic Loss per Language (less is better)\"};\n",
       "            Plotly.newPlot('94e7b542-41a6-4384-a96d-2df63352811d', data, layout);\n",
       "        });\r\n",
       "};\r\n",
       "if ((typeof(requirejs) !==  typeof(Function)) || (typeof(requirejs.config) !== typeof(Function))) { \r\n",
       "    var script = document.createElement(\"script\"); \r\n",
       "    script.setAttribute(\"src\", \"https://cdnjs.cloudflare.com/ajax/libs/require.js/2.3.6/require.min.js\"); \r\n",
       "    script.onload = function(){\r\n",
       "        renderPlotly();\r\n",
       "    };\r\n",
       "    document.getElementsByTagName(\"head\")[0].appendChild(script); \r\n",
       "}\r\n",
       "else {\r\n",
       "    renderPlotly();\r\n",
       "}\r\n",
       "</script>"
      ]
     },
     "metadata": {},
     "output_type": "display_data"
    }
   ],
   "source": [
    "string[] classNames = { \"German\", \"English\", \"French\", \"Italian\", \"Romanian\", \"Spanish\" };\n",
    "\n",
    "var graph = new Graph.Bar()\n",
    "{\n",
    "    y = qualityMetrics.PerClassLogLoss,\n",
    "    x = classNames\n",
    "};\n",
    "\n",
    "var chart = Chart.Plot(graph);\n",
    "\n",
    "var layout = new Layout.Layout(){ title=\"Logarithmic Loss per Language (less is better)\" };\n",
    "chart.WithLayout(layout);\n",
    "\n",
    "display(chart);"
   ]
  },
  {
   "cell_type": "markdown",
   "metadata": {},
   "source": [
    "### Predict language"
   ]
  },
  {
   "cell_type": "code",
   "execution_count": 10,
   "metadata": {},
   "outputs": [
    {
     "data": {
      "text/html": [
       "<table><thead><tr><th>PredictedLanguage</th><th>Confidence</th><th>Text</th><th>Class</th><th>Confidences</th></tr></thead><tbody><tr><td>French</td><td>86</td><td>Ceci n&#39;est pas une pipe</td><td>2</td><td>[ 0.031047437, 0.027249021, 0.86063504, 0.030808335, 0.03533128, 0.014928936 ]</td></tr></tbody></table>"
      ]
     },
     "metadata": {},
     "output_type": "display_data"
    },
    {
     "data": {
      "text/html": [
       "<table><thead><tr><th>PredictedLanguage</th><th>Confidence</th><th>Text</th><th>Class</th><th>Confidences</th></tr></thead><tbody><tr><td>German</td><td>81</td><td>Guten Morgen liebe Freunde</td><td>0</td><td>[ 0.8122419, 0.05640031, 0.022422126, 0.051359497, 0.027108163, 0.030468086 ]</td></tr></tbody></table>"
      ]
     },
     "metadata": {},
     "output_type": "display_data"
    }
   ],
   "source": [
    "var predictionEngine = mlContext.Model.CreatePredictionEngine<MulticlassClassificationData, MulticlassClassificationPrediction>\n",
    "    (model);\n",
    "    \n",
    "var prediction = predictionEngine.Predict(new MulticlassClassificationData(\"Ceci n'est pas une pipe\"));\n",
    "display(prediction);\n",
    "\n",
    "prediction = predictionEngine.Predict(new MulticlassClassificationData(\"Guten Morgen liebe Freunde\"));\n",
    "display(prediction);"
   ]
  },
  {
   "cell_type": "code",
   "execution_count": null,
   "metadata": {},
   "outputs": [],
   "source": []
  }
 ],
 "metadata": {
  "kernelspec": {
   "display_name": ".NET (C#)",
   "language": "C#",
   "name": ".net-csharp"
  },
  "language_info": {
   "file_extension": ".cs",
   "mimetype": "text/x-csharp",
   "name": "C#",
   "pygments_lexer": "csharp",
   "version": "8.0"
  }
 },
 "nbformat": 4,
 "nbformat_minor": 2
}
