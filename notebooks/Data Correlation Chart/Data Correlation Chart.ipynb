{
 "cells": [
  {
   "cell_type": "markdown",
   "metadata": {},
   "source": [
    "### Draws a Correlation Chart or Heatmap on the Titanic data set"
   ]
  },
  {
   "cell_type": "markdown",
   "metadata": {},
   "source": [
    "### NuGet package installation"
   ]
  },
  {
   "cell_type": "code",
   "execution_count": 1,
   "metadata": {},
   "outputs": [
    {
     "data": {
      "text/html": [
       "Installing package MathNet.Numerics, version 4.9.0.....................................done!"
      ]
     },
     "metadata": {},
     "output_type": "display_data"
    },
    {
     "data": {
      "text/html": [
       "Successfully added reference to package MathNet.Numerics, version 4.9.0"
      ]
     },
     "metadata": {},
     "output_type": "display_data"
    },
    {
     "data": {
      "text/html": [
       "Installing package Microsoft.ML, version 1.4.0.........done!"
      ]
     },
     "metadata": {},
     "output_type": "display_data"
    },
    {
     "data": {
      "text/html": [
       "Successfully added reference to package Microsoft.ML, version 1.4.0"
      ]
     },
     "metadata": {},
     "output_type": "display_data"
    },
    {
     "data": {
      "text/html": [
       "Installing package XPlot.Plotly, version 3.0.1........done!"
      ]
     },
     "metadata": {},
     "output_type": "display_data"
    },
    {
     "data": {
      "text/html": [
       "Successfully added reference to package XPlot.Plotly, version 3.0.1"
      ]
     },
     "metadata": {},
     "output_type": "display_data"
    }
   ],
   "source": [
    "#r \"nuget:MathNet.Numerics, 4.9.0\"\n",
    "#r \"nuget:Microsoft.ML, 1.4.0\"\n",
    "#r \"nuget:XPlot.Plotly, 3.0.1\""
   ]
  },
  {
   "cell_type": "markdown",
   "metadata": {},
   "source": [
    "### Namespaces"
   ]
  },
  {
   "cell_type": "code",
   "execution_count": 2,
   "metadata": {},
   "outputs": [],
   "source": [
    "using Microsoft.ML;\n",
    "using Microsoft.ML.Data;\n",
    "using XPlot.Plotly;\n",
    "using MathNet.Numerics.Statistics;"
   ]
  },
  {
   "cell_type": "markdown",
   "metadata": {},
   "source": [
    "## Simple heatmap sample\n",
    "Warming up ..."
   ]
  },
  {
   "cell_type": "code",
   "execution_count": 3,
   "metadata": {},
   "outputs": [
    {
     "data": {
      "text/html": [
       "<div id=\"68c3b657-b09d-4257-862a-2398c648c67d\" style=\"width: 900px; height: 500px;\"></div><script type=\"text/javascript\">\r\n",
       "\r\n",
       "var renderPlotly = function() {\r\n",
       "    var xplotRequire = requirejs.config({context:'xplot-2.0.0',paths:{plotly:'https://cdn.plot.ly/plotly-1.49.2.min'}});\r\n",
       "    xplotRequire(['plotly'], function(Plotly) {\r\n",
       "\n",
       "            var data = [{\"type\":\"heatmap\",\"z\":[[0.0,-0.75,1.0],[0.75,1.0,-0.75],[1.0,0.75,0.0]],\"x\":[\"one\",\"two\",\"three\"],\"y\":[\"three\",\"two\",\"one\"],\"zmin\":-1.0,\"zmax\":1.0}];\n",
       "            var layout = {\"title\":\"Sample Correlation Chart\"};\n",
       "            Plotly.newPlot('68c3b657-b09d-4257-862a-2398c648c67d', data, layout);\n",
       "        });\r\n",
       "};\r\n",
       "if ((typeof(requirejs) !==  typeof(Function)) || (typeof(requirejs.config) !== typeof(Function))) { \r\n",
       "    var script = document.createElement(\"script\"); \r\n",
       "    script.setAttribute(\"src\", \"https://cdnjs.cloudflare.com/ajax/libs/require.js/2.3.6/require.min.js\"); \r\n",
       "    script.onload = function(){\r\n",
       "        renderPlotly();\r\n",
       "    };\r\n",
       "    document.getElementsByTagName(\"head\")[0].appendChild(script); \r\n",
       "}\r\n",
       "else {\r\n",
       "    renderPlotly();\r\n",
       "}\r\n",
       "</script>"
      ]
     },
     "metadata": {},
     "output_type": "display_data"
    }
   ],
   "source": [
    "var graph = new Graph.Heatmap()\n",
    "{\n",
    "    x = new [] { \"one\", \"two\", \"three\"},\n",
    "    y = new [] { \"three\", \"two\", \"one\" },\n",
    "    z = new List<List<double>> \n",
    "        { \n",
    "            new List<double> { 0, -.75, 1 }, \n",
    "            new List<double> { .75, 1, -.75 }, \n",
    "            new List<double> { 1, .75, 0 }\n",
    "        },\n",
    "    zmin = -1,\n",
    "    zmax = 1\n",
    "};\n",
    "\n",
    "var chart = Chart.Plot(graph);\n",
    "\n",
    "var layout = new Layout.Layout(){ title=\"Sample Correlation Chart\" };\n",
    "chart.WithLayout(layout);\n",
    "\n",
    "display(chart);"
   ]
  },
  {
   "cell_type": "markdown",
   "metadata": {},
   "source": [
    "## And now for the real thing"
   ]
  },
  {
   "cell_type": "markdown",
   "metadata": {},
   "source": [
    "### Read the data"
   ]
  },
  {
   "cell_type": "code",
   "execution_count": 4,
   "metadata": {},
   "outputs": [],
   "source": [
    "var mlContext = new MLContext(seed: null);\n",
    "\n",
    "var readerOptions = new TextLoader.Options()\n",
    "{\n",
    "    Separators = new[] { ',' },\n",
    "    HasHeader = true,\n",
    "    AllowQuoting = true,\n",
    "    Columns = new[]\n",
    "        {\n",
    "        new TextLoader.Column(\"Survived\", DataKind.Single, 1),\n",
    "        new TextLoader.Column(\"PClass\", DataKind.Single, 2),\n",
    "        new TextLoader.Column(\"Age\", DataKind.Single, 5),\n",
    "        new TextLoader.Column(\"SibSp\", DataKind.Single, 6),\n",
    "        new TextLoader.Column(\"Parch\", DataKind.Single, 7),\n",
    "        new TextLoader.Column(\"Fare\", DataKind.Single, 9)\n",
    "        }\n",
    "};\n",
    "\n",
    "var dataView = mlContext.Data.LoadFromTextFile(\"./Titanic.csv\", readerOptions);"
   ]
  },
  {
   "cell_type": "markdown",
   "metadata": {},
   "source": [
    "### Enter the Matrix\n",
    "\n",
    "ML.NET prefers singles (float), Math.NET prefers doubles ..."
   ]
  },
  {
   "cell_type": "code",
   "execution_count": 5,
   "metadata": {},
   "outputs": [],
   "source": [
    "var matrix = new List<List<double>>();\n",
    "for (int i = 0; i < dataView.Schema.Count; i++)\n",
    "{\n",
    "    var column = dataView.Schema[i];\n",
    "    matrix.Add(dataView.GetColumn<float>(column).Select(f => (double)f).ToList());\n",
    "}\n",
    "\n",
    "var data = new double[6, 6];\n",
    "for (int x = 0; x < 6; ++x)\n",
    "{\n",
    "    for (int y = 0; y < 5 - x; ++y)\n",
    "    {\n",
    "        var seriesA = matrix[x];\n",
    "        var seriesB = matrix[5 - y];\n",
    "\n",
    "        var value = Correlation.Pearson(seriesA, seriesB);\n",
    "\n",
    "        data[x, y] = value;\n",
    "        data[5 - y, 5 - x] = value;\n",
    "    }\n",
    "\n",
    "    data[x, 5 - x] = 1;\n",
    "}"
   ]
  },
  {
   "cell_type": "markdown",
   "metadata": {},
   "source": [
    "### Draw"
   ]
  },
  {
   "cell_type": "code",
   "execution_count": 6,
   "metadata": {
    "scrolled": true
   },
   "outputs": [
    {
     "data": {
      "text/html": [
       "<div id=\"813c2bb4-6908-440c-95e9-f6e308da8641\" style=\"width: 900px; height: 500px;\"></div><script type=\"text/javascript\">\r\n",
       "\r\n",
       "var renderPlotly = function() {\r\n",
       "    var xplotRequire = requirejs.config({context:'xplot-2.0.0',paths:{plotly:'https://cdn.plot.ly/plotly-1.49.2.min'}});\r\n",
       "    xplotRequire(['plotly'], function(Plotly) {\r\n",
       "\n",
       "            var data = [{\"type\":\"heatmap\",\"z\":[[0.25730651981510916,0.08162940708348336,-0.035322498885735576,0.010539215870213696,-0.33848103596101514,1.0],[-0.5494996129504849,0.018442671310748514,0.08308136284568689,-0.3613532153893757,1.0,-0.33848103596101514],[0.135515850939437,-0.04878608272073803,-0.18466352835067615,1.0,-0.3613532153893757,0.010539215870213696],[0.1596510448546674,0.4148376986201564,1.0,-0.18466352835067615,0.08308136284568689,-0.035322498885735576],[0.21622494416482502,1.0,0.4148376986201564,-0.04878608272073803,0.018442671310748514,0.08162940708348336],[1.0,0.21622494416482502,0.1596510448546674,0.135515850939437,-0.5494996129504849,0.25730651981510916]],\"x\":[\"Fare\",\"Parents / Children\",\"Siblings / Spouses\",\"Age\",\"Class\",\"Survived\"],\"y\":[\"Survived\",\"Class\",\"Age\",\"Sib / Sp\",\"Par / Chi\",\"Fare\"],\"zmin\":-1.0,\"zmax\":1.0}];\n",
       "            var layout = {\"title\":\"Titanic Survival Correlation Chart\"};\n",
       "            Plotly.newPlot('813c2bb4-6908-440c-95e9-f6e308da8641', data, layout);\n",
       "        });\r\n",
       "};\r\n",
       "if ((typeof(requirejs) !==  typeof(Function)) || (typeof(requirejs.config) !== typeof(Function))) { \r\n",
       "    var script = document.createElement(\"script\"); \r\n",
       "    script.setAttribute(\"src\", \"https://cdnjs.cloudflare.com/ajax/libs/require.js/2.3.6/require.min.js\"); \r\n",
       "    script.onload = function(){\r\n",
       "        renderPlotly();\r\n",
       "    };\r\n",
       "    document.getElementsByTagName(\"head\")[0].appendChild(script); \r\n",
       "}\r\n",
       "else {\r\n",
       "    renderPlotly();\r\n",
       "}\r\n",
       "</script>"
      ]
     },
     "metadata": {},
     "output_type": "display_data"
    }
   ],
   "source": [
    "var graph = new Graph.Heatmap()\n",
    "{\n",
    "    y = new [] { \"Survived\", \"Class\", \"Age\", \"Sib / Sp\", \"Par / Chi\", \"Fare\" },\n",
    "    x = new [] { \"Fare\", \"Parents / Children\", \"Siblings / Spouses\", \"Age\", \"Class\", \"Survived\" },\n",
    "    z = data,\n",
    "    zmin = -1,\n",
    "    zmax = 1\n",
    "};\n",
    "\n",
    "var chart = Chart.Plot(graph);\n",
    "\n",
    "var layout = new Layout.Layout(){ title=\"Titanic Survival Correlation Chart\" };\n",
    "chart.WithLayout(layout);\n",
    "\n",
    "display(chart);"
   ]
  },
  {
   "cell_type": "code",
   "execution_count": null,
   "metadata": {},
   "outputs": [],
   "source": []
  }
 ],
 "metadata": {
  "kernelspec": {
   "display_name": ".NET (C#)",
   "language": "C#",
   "name": ".net-csharp"
  },
  "language_info": {
   "file_extension": ".cs",
   "mimetype": "text/x-csharp",
   "name": "C#",
   "pygments_lexer": "csharp",
   "version": "8.0"
  }
 },
 "nbformat": 4,
 "nbformat_minor": 2
}
