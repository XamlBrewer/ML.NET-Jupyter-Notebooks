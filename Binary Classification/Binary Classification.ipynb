{
 "cells": [
  {
   "cell_type": "markdown",
   "metadata": {},
   "source": [
    "### ML.NET Binary Classification\n",
    "Creates a binary classification model to predict the quality of wine using 11 physicochemical features"
   ]
  },
  {
   "cell_type": "markdown",
   "metadata": {},
   "source": [
    "### NuGet package installation"
   ]
  },
  {
   "cell_type": "code",
   "execution_count": 1,
   "metadata": {},
   "outputs": [
    {
     "data": {
      "text/html": [
       "Installing package Microsoft.ML.......................done!"
      ]
     },
     "metadata": {},
     "output_type": "display_data"
    },
    {
     "data": {
      "text/html": [
       "Successfully added reference to package Microsoft.ML, version 1.4.0"
      ]
     },
     "metadata": {},
     "output_type": "display_data"
    },
    {
     "data": {
      "text/html": [
       "Installing package XPlot.Plotly......done!"
      ]
     },
     "metadata": {},
     "output_type": "display_data"
    },
    {
     "data": {
      "text/html": [
       "Successfully added reference to package XPlot.Plotly, version 3.0.1"
      ]
     },
     "metadata": {},
     "output_type": "display_data"
    }
   ],
   "source": [
    "#r \"nuget:Microsoft.ML\"\n",
    "#r \"nuget:XPlot.Plotly\""
   ]
  },
  {
   "cell_type": "markdown",
   "metadata": {},
   "source": [
    "### Namespaces"
   ]
  },
  {
   "cell_type": "code",
   "execution_count": 2,
   "metadata": {},
   "outputs": [],
   "source": [
    "using Microsoft.ML;\n",
    "using Microsoft.ML.Data;\n",
    "using Microsoft.ML.Trainers;\n",
    "using Microsoft.ML.Transforms;\n",
    "using XPlot.Plotly;"
   ]
  },
  {
   "cell_type": "markdown",
   "metadata": {},
   "source": [
    "### Input class definition"
   ]
  },
  {
   "cell_type": "code",
   "execution_count": 3,
   "metadata": {},
   "outputs": [],
   "source": [
    "public class BinaryClassificationData\n",
    "{\n",
    "    [LoadColumn(0)]\n",
    "    public float FixedAcidity;\n",
    "\n",
    "    [LoadColumn(1)]\n",
    "    public float VolatileAcidity;\n",
    "\n",
    "    [LoadColumn(2)]\n",
    "    public float CitricAcid;\n",
    "\n",
    "    [LoadColumn(3)]\n",
    "    public float ResidualSugar;\n",
    "\n",
    "    [LoadColumn(4)]\n",
    "    public float Chlorides;\n",
    "\n",
    "    [LoadColumn(5)]\n",
    "    public float FreeSulfurDioxide;\n",
    "\n",
    "    [LoadColumn(6)]\n",
    "    public float TotalSulfurDioxide;\n",
    "\n",
    "    [LoadColumn(7)]\n",
    "    public float Density;\n",
    "\n",
    "    [LoadColumn(8)]\n",
    "    public float Ph;\n",
    "\n",
    "    [LoadColumn(9)]\n",
    "    public float Sulphates;\n",
    "\n",
    "    [LoadColumn(10)]\n",
    "    public float Alcohol;\n",
    "\n",
    "    [LoadColumn(11)]\n",
    "    public float Quality;\n",
    "}\n",
    "\n",
    "public class RichBinaryClassificationData: BinaryClassificationData\n",
    "{\n",
    "    public bool Label => Quality > 5;\n",
    "}"
   ]
  },
  {
   "cell_type": "markdown",
   "metadata": {},
   "source": [
    "### Output class definition"
   ]
  },
  {
   "cell_type": "code",
   "execution_count": 4,
   "metadata": {},
   "outputs": [],
   "source": [
    "public class BinaryClassificationPrediction\n",
    "{\n",
    "    public bool Label;\n",
    "\n",
    "    [ColumnName(\"PredictedLabel\")]\n",
    "    public bool PredictedLabel;\n",
    "\n",
    "    public int LabelAsNumber => PredictedLabel ? 1 : 0;\n",
    "}"
   ]
  },
  {
   "cell_type": "markdown",
   "metadata": {},
   "source": [
    "### Read the raw data"
   ]
  },
  {
   "cell_type": "code",
   "execution_count": 5,
   "metadata": {},
   "outputs": [],
   "source": [
    "var mlContext = new MLContext(seed: null);\n",
    "\n",
    "var trainingData = mlContext.Data.LoadFromTextFile<BinaryClassificationData>(\n",
    "    \"./WineQuality_White_Train.csv\", \n",
    "    separatorChar: ';',\n",
    "    hasHeader: true);"
   ]
  },
  {
   "cell_type": "markdown",
   "metadata": {},
   "source": [
    "### Prepare the data"
   ]
  },
  {
   "cell_type": "code",
   "execution_count": 6,
   "metadata": {},
   "outputs": [],
   "source": [
    "// OK, this is a bit of a hack to let C# calculate the Label.\n",
    "\n",
    "var stronglyTypedTrainingData = mlContext.Data.CreateEnumerable<RichBinaryClassificationData>(trainingData, false);\n",
    "trainingData = mlContext.Data.LoadFromEnumerable(stronglyTypedTrainingData);\n",
    "\n",
    "var pipeline =\n",
    "        mlContext.Transforms.ReplaceMissingValues(\n",
    "            outputColumnName: \"FixedAcidity\",\n",
    "            replacementMode: MissingValueReplacingEstimator.ReplacementMode.Mean)\n",
    "        .Append(mlContext.Transforms.Concatenate(\"Features\",\n",
    "            new[]\n",
    "            {\n",
    "                \"FixedAcidity\",\n",
    "                \"VolatileAcidity\",\n",
    "                \"CitricAcid\",\n",
    "                \"ResidualSugar\",\n",
    "                \"Chlorides\",\n",
    "                \"FreeSulfurDioxide\",\n",
    "                \"TotalSulfurDioxide\",\n",
    "                \"Density\",\n",
    "                \"Ph\",\n",
    "                \"Sulphates\",\n",
    "                \"Alcohol\"\n",
    "            }))\n",
    "        .Append(mlContext.BinaryClassification.Trainers.LbfgsLogisticRegression());"
   ]
  },
  {
   "cell_type": "markdown",
   "metadata": {},
   "source": [
    "### Train the model"
   ]
  },
  {
   "cell_type": "code",
   "execution_count": null,
   "metadata": {},
   "outputs": [],
   "source": [
    "var model = pipeline.Fit(trainingData);"
   ]
  },
  {
   "cell_type": "markdown",
   "metadata": {},
   "source": [
    "### Evaluate the model"
   ]
  },
  {
   "cell_type": "code",
   "execution_count": null,
   "metadata": {},
   "outputs": [],
   "source": [
    "var testData = mlContext.Data.LoadFromTextFile<BinaryClassificationData>(\n",
    "    \"./WineQuality_White_Test.csv\", \n",
    "    separatorChar: ';',\n",
    "    hasHeader: true);\n",
    "    \n",
    "// Same hack: IDataView to Enumerable to IDataView.    \n",
    "var stronglyTypedTestData = mlContext.Data.CreateEnumerable<RichBinaryClassificationData>(trainingData, false);\n",
    "testData = mlContext.Data.LoadFromEnumerable(stronglyTypedTestData);\n",
    "\n",
    "var scoredData = model.Transform(testData);\n",
    "\n",
    "var qualityMetrics =  mlContext.BinaryClassification.Evaluate(scoredData);\n",
    "display(qualityMetrics);"
   ]
  },
  {
   "cell_type": "markdown",
   "metadata": {},
   "source": [
    "### TODO: Plot the quality metrics"
   ]
  },
  {
   "cell_type": "code",
   "execution_count": null,
   "metadata": {},
   "outputs": [],
   "source": [
    "// ..."
   ]
  },
  {
   "cell_type": "markdown",
   "metadata": {},
   "source": [
    "### TODO: Plot the confusion matrix"
   ]
  },
  {
   "cell_type": "code",
   "execution_count": null,
   "metadata": {},
   "outputs": [],
   "source": [
    "// ..."
   ]
  },
  {
   "cell_type": "code",
   "execution_count": null,
   "metadata": {},
   "outputs": [],
   "source": []
  }
 ],
 "metadata": {
  "kernelspec": {
   "display_name": ".NET (C#)",
   "language": "C#",
   "name": ".net-csharp"
  },
  "language_info": {
   "file_extension": ".cs",
   "mimetype": "text/x-csharp",
   "name": "C#",
   "pygments_lexer": "csharp",
   "version": "8.0"
  }
 },
 "nbformat": 4,
 "nbformat_minor": 2
}
